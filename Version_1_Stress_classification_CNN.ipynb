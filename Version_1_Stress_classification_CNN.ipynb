{
 "cells": [
  {
   "cell_type": "markdown",
   "id": "f0534153-6b4f-4c62-86bc-7d259aba2379",
   "metadata": {},
   "source": [
    "## **Install Dependencies**"
   ]
  },
  {
   "cell_type": "code",
   "execution_count": 23,
   "id": "3bd5eb9b-c4f6-49a1-80cc-7ae66483ffdc",
   "metadata": {},
   "outputs": [
    {
     "name": "stdout",
     "output_type": "stream",
     "text": [
      "Requirement already satisfied: wfdb in /Users/anan/miniforge3/envs/ml/lib/python3.8/site-packages (3.4.1)\n",
      "Requirement already satisfied: wget in /Users/anan/miniforge3/envs/ml/lib/python3.8/site-packages (3.2)\n",
      "Requirement already satisfied: tqdm in /Users/anan/miniforge3/envs/ml/lib/python3.8/site-packages (4.61.2)\n",
      "Requirement already satisfied: biosppy in /Users/anan/miniforge3/envs/ml/lib/python3.8/site-packages (0.8.0)\n",
      "Requirement already satisfied: imbalanced-learn in /Users/anan/miniforge3/envs/ml/lib/python3.8/site-packages (0.8.1)\n",
      "Requirement already satisfied: seaborn in /Users/anan/miniforge3/envs/ml/lib/python3.8/site-packages (0.11.2)\n",
      "Requirement already satisfied: pandas>=0.17.0 in /Users/anan/miniforge3/envs/ml/lib/python3.8/site-packages (from wfdb) (1.3.0)\n",
      "Requirement already satisfied: matplotlib>=3.3.4 in /Users/anan/miniforge3/envs/ml/lib/python3.8/site-packages (from wfdb) (3.4.2)\n",
      "Requirement already satisfied: numpy>=1.10.1 in /Users/anan/miniforge3/envs/ml/lib/python3.8/site-packages (from wfdb) (1.21.0)\n",
      "Requirement already satisfied: requests>=2.8.1 in /Users/anan/miniforge3/envs/ml/lib/python3.8/site-packages (from wfdb) (2.25.1)\n",
      "Requirement already satisfied: scipy>=0.17.0 in /Users/anan/miniforge3/envs/ml/lib/python3.8/site-packages (from wfdb) (1.7.0)\n",
      "Requirement already satisfied: pyparsing>=2.2.1 in /Users/anan/miniforge3/envs/ml/lib/python3.8/site-packages (from matplotlib>=3.3.4->wfdb) (2.4.7)\n",
      "Requirement already satisfied: pillow>=6.2.0 in /Users/anan/miniforge3/envs/ml/lib/python3.8/site-packages (from matplotlib>=3.3.4->wfdb) (8.3.1)\n",
      "Requirement already satisfied: python-dateutil>=2.7 in /Users/anan/miniforge3/envs/ml/lib/python3.8/site-packages (from matplotlib>=3.3.4->wfdb) (2.8.1)\n",
      "Requirement already satisfied: cycler>=0.10 in /Users/anan/miniforge3/envs/ml/lib/python3.8/site-packages (from matplotlib>=3.3.4->wfdb) (0.10.0)\n",
      "Requirement already satisfied: kiwisolver>=1.0.1 in /Users/anan/miniforge3/envs/ml/lib/python3.8/site-packages (from matplotlib>=3.3.4->wfdb) (1.3.1)\n",
      "Requirement already satisfied: six in /Users/anan/miniforge3/envs/ml/lib/python3.8/site-packages (from cycler>=0.10->matplotlib>=3.3.4->wfdb) (1.16.0)\n",
      "Requirement already satisfied: pytz>=2017.3 in /Users/anan/miniforge3/envs/ml/lib/python3.8/site-packages (from pandas>=0.17.0->wfdb) (2021.1)\n",
      "Requirement already satisfied: chardet<5,>=3.0.2 in /Users/anan/miniforge3/envs/ml/lib/python3.8/site-packages (from requests>=2.8.1->wfdb) (4.0.0)\n",
      "Requirement already satisfied: certifi>=2017.4.17 in /Users/anan/miniforge3/envs/ml/lib/python3.8/site-packages (from requests>=2.8.1->wfdb) (2021.5.30)\n",
      "Requirement already satisfied: urllib3<1.27,>=1.21.1 in /Users/anan/miniforge3/envs/ml/lib/python3.8/site-packages (from requests>=2.8.1->wfdb) (1.26.6)\n",
      "Requirement already satisfied: idna<3,>=2.5 in /Users/anan/miniforge3/envs/ml/lib/python3.8/site-packages (from requests>=2.8.1->wfdb) (2.10)\n",
      "Requirement already satisfied: bidict in /Users/anan/miniforge3/envs/ml/lib/python3.8/site-packages (from biosppy) (0.21.4)\n",
      "Requirement already satisfied: opencv-python in /Users/anan/miniforge3/envs/ml/lib/python3.8/site-packages (from biosppy) (4.5.4.60)\n",
      "Requirement already satisfied: shortuuid in /Users/anan/miniforge3/envs/ml/lib/python3.8/site-packages (from biosppy) (1.0.8)\n",
      "Requirement already satisfied: h5py in /Users/anan/miniforge3/envs/ml/lib/python3.8/site-packages (from biosppy) (2.10.0)\n",
      "Requirement already satisfied: scikit-learn in /Users/anan/miniforge3/envs/ml/lib/python3.8/site-packages (from biosppy) (0.24.2)\n",
      "Requirement already satisfied: joblib in /Users/anan/miniforge3/envs/ml/lib/python3.8/site-packages (from biosppy) (1.0.1)\n",
      "Requirement already satisfied: threadpoolctl>=2.0.0 in /Users/anan/miniforge3/envs/ml/lib/python3.8/site-packages (from scikit-learn->biosppy) (2.1.0)\n",
      "Note: you may need to restart the kernel to use updated packages.\n"
     ]
    }
   ],
   "source": [
    "pip install wfdb wget tqdm biosppy imbalanced-learn seaborn"
   ]
  },
  {
   "cell_type": "code",
   "execution_count": 24,
   "id": "bcfc02c8-2098-4333-8c7d-c88fed2841f4",
   "metadata": {},
   "outputs": [
    {
     "name": "stdout",
     "output_type": "stream",
     "text": [
      "Found existing installation: matplotlib 3.1.3\n",
      "Uninstalling matplotlib-3.1.3:\n",
      "  Successfully uninstalled matplotlib-3.1.3\n",
      "Collecting matplotlib==3.1.3\n",
      "  Using cached matplotlib-3.1.3-cp39-cp39-macosx_11_0_arm64.whl\n",
      "Requirement already satisfied: pyparsing!=2.0.4,!=2.1.2,!=2.1.6,>=2.0.1 in /Users/anan/miniforge3/lib/python3.9/site-packages (from matplotlib==3.1.3) (2.4.7)\n",
      "Requirement already satisfied: numpy>=1.11 in /Users/anan/miniforge3/lib/python3.9/site-packages (from matplotlib==3.1.3) (1.21.1)\n",
      "Requirement already satisfied: cycler>=0.10 in /Users/anan/miniforge3/lib/python3.9/site-packages (from matplotlib==3.1.3) (0.10.0)\n",
      "Requirement already satisfied: python-dateutil>=2.1 in /Users/anan/miniforge3/lib/python3.9/site-packages (from matplotlib==3.1.3) (2.8.2)\n",
      "Requirement already satisfied: kiwisolver>=1.0.1 in /Users/anan/miniforge3/lib/python3.9/site-packages (from matplotlib==3.1.3) (1.3.1)\n",
      "Requirement already satisfied: six in /Users/anan/miniforge3/lib/python3.9/site-packages (from cycler>=0.10->matplotlib==3.1.3) (1.15.0)\n",
      "Installing collected packages: matplotlib\n",
      "Successfully installed matplotlib-3.1.3\n"
     ]
    }
   ],
   "source": [
    "!pip uninstall matplotlib --yes\n",
    "!pip install matplotlib==3.1.3 "
   ]
  },
  {
   "cell_type": "markdown",
   "id": "01639788-dda0-45f7-8e67-61f21f2d369c",
   "metadata": {},
   "source": [
    "## **Importing Libraries**"
   ]
  },
  {
   "cell_type": "code",
   "execution_count": 25,
   "id": "1ab45b44-967c-4fc4-a302-df96a9de7ff6",
   "metadata": {},
   "outputs": [],
   "source": [
    "import tensorflow as tf\n",
    "import matplotlib.pyplot as plt\n",
    "import pandas as pd\n",
    "import numpy as np\n",
    "from glob import glob\n",
    "import wget\n",
    "import zipfile\n",
    "import wfdb as wf\n",
    "import os\n",
    "from scipy import signal\n",
    "from biosppy.signals import ecg\n",
    "import cv2\n",
    "from sklearn.model_selection import train_test_split\n",
    "from collections import Counter\n",
    "from sklearn.preprocessing import LabelEncoder\n",
    "from imblearn.over_sampling import SMOTE\n",
    "from sklearn import metrics"
   ]
  },
  {
   "cell_type": "markdown",
   "id": "0307adf6-187e-4cdf-b48c-b8db14e42a21",
   "metadata": {},
   "source": [
    "## **Importing Image Data**"
   ]
  },
  {
   "cell_type": "code",
   "execution_count": 27,
   "id": "98deb4d7-4947-468a-833a-b37b24a216c2",
   "metadata": {},
   "outputs": [
    {
     "data": {
      "text/plain": [
       "(76871, 76871)"
      ]
     },
     "execution_count": 27,
     "metadata": {},
     "output_type": "execute_result"
    }
   ],
   "source": [
    "base_dir = os.path.join('./data_ecg/Spectrogram/')\n",
    "Abnormal_dir = os.path.join(base_dir,'Abnormal')\n",
    "Normal_dir = os.path.join(base_dir,'Normal')\n",
    "\n",
    "Abnormal_files = glob(Abnormal_dir+'/*.png')\n",
    "Normal_files = glob(Normal_dir+'/*.png')\n",
    "len(Abnormal_files), len(Normal_files)"
   ]
  },
  {
   "cell_type": "code",
   "execution_count": 28,
   "id": "0702f952-9261-462b-a70b-de28972ca1f8",
   "metadata": {
    "tags": []
   },
   "outputs": [
    {
     "data": {
      "text/html": [
       "<div>\n",
       "<style scoped>\n",
       "    .dataframe tbody tr th:only-of-type {\n",
       "        vertical-align: middle;\n",
       "    }\n",
       "\n",
       "    .dataframe tbody tr th {\n",
       "        vertical-align: top;\n",
       "    }\n",
       "\n",
       "    .dataframe thead th {\n",
       "        text-align: right;\n",
       "    }\n",
       "</style>\n",
       "<table border=\"1\" class=\"dataframe\">\n",
       "  <thead>\n",
       "    <tr style=\"text-align: right;\">\n",
       "      <th></th>\n",
       "      <th>filename</th>\n",
       "      <th>label</th>\n",
       "    </tr>\n",
       "  </thead>\n",
       "  <tbody>\n",
       "    <tr>\n",
       "      <th>0</th>\n",
       "      <td>./data_ecg/Spectrogram/Normal/79717.png</td>\n",
       "      <td>normal</td>\n",
       "    </tr>\n",
       "    <tr>\n",
       "      <th>1</th>\n",
       "      <td>./data_ecg/Spectrogram/Abnormal/118632.png</td>\n",
       "      <td>abnormal</td>\n",
       "    </tr>\n",
       "    <tr>\n",
       "      <th>2</th>\n",
       "      <td>./data_ecg/Spectrogram/Normal/6741.png</td>\n",
       "      <td>normal</td>\n",
       "    </tr>\n",
       "    <tr>\n",
       "      <th>3</th>\n",
       "      <td>./data_ecg/Spectrogram/Abnormal/138937.png</td>\n",
       "      <td>abnormal</td>\n",
       "    </tr>\n",
       "    <tr>\n",
       "      <th>4</th>\n",
       "      <td>./data_ecg/Spectrogram/Abnormal/60980.png</td>\n",
       "      <td>abnormal</td>\n",
       "    </tr>\n",
       "  </tbody>\n",
       "</table>\n",
       "</div>"
      ],
      "text/plain": [
       "                                     filename     label\n",
       "0     ./data_ecg/Spectrogram/Normal/79717.png    normal\n",
       "1  ./data_ecg/Spectrogram/Abnormal/118632.png  abnormal\n",
       "2      ./data_ecg/Spectrogram/Normal/6741.png    normal\n",
       "3  ./data_ecg/Spectrogram/Abnormal/138937.png  abnormal\n",
       "4   ./data_ecg/Spectrogram/Abnormal/60980.png  abnormal"
      ]
     },
     "execution_count": 28,
     "metadata": {},
     "output_type": "execute_result"
    }
   ],
   "source": [
    "np.random.seed(42)\n",
    "\n",
    "files_df = pd.DataFrame({\n",
    "    'filename': Abnormal_files + Normal_files,\n",
    "    'label': ['abnormal'] * len(Abnormal_files) + ['normal'] * len(Normal_files)\n",
    "}).sample(frac=1, random_state=42).reset_index(drop=True)\n",
    "\n",
    "files_df.head()"
   ]
  },
  {
   "cell_type": "markdown",
   "id": "49bb7513-616f-4cc4-9a2d-d73ed3089490",
   "metadata": {},
   "source": [
    "## **Image data split**"
   ]
  },
  {
   "cell_type": "code",
   "execution_count": 31,
   "id": "3ddfbb9d-bf34-4d25-9f9b-1b78ddcac866",
   "metadata": {},
   "outputs": [
    {
     "name": "stdout",
     "output_type": "stream",
     "text": [
      "(96857,) (10762,) (46123,)\n",
      "Train: Counter({'abnormal': 48586, 'normal': 48271}) \n",
      "Val: Counter({'normal': 5432, 'abnormal': 5330}) \n",
      "Test: Counter({'normal': 23168, 'abnormal': 22955})\n"
     ]
    }
   ],
   "source": [
    "train_files, test_files, train_labels, test_labels = train_test_split(files_df['filename'].values,\n",
    "                                                                      files_df['label'].values, \n",
    "                                                                      test_size=0.3, random_state=42)\n",
    "train_files, val_files, train_labels, val_labels = train_test_split(train_files,\n",
    "                                                                    train_labels, \n",
    "                                                                    test_size=0.1, random_state=42)\n",
    "\n",
    "print(train_files.shape, val_files.shape, test_files.shape)\n",
    "print('Train:', Counter(train_labels), '\\nVal:', Counter(val_labels), '\\nTest:', Counter(test_labels))"
   ]
  },
  {
   "cell_type": "markdown",
   "id": "b448b859-3bfc-42ff-9715-840735d4a2da",
   "metadata": {},
   "source": [
    "## **Image reshaping**"
   ]
  },
  {
   "cell_type": "code",
   "execution_count": 33,
   "id": "0f58ef1f-952c-4314-af64-b102031d363e",
   "metadata": {},
   "outputs": [
    {
     "name": "stdout",
     "output_type": "stream",
     "text": [
      "Starting Img shape computation:\n",
      "ThreadPoolExecutor-2_0: working on img num: 0\n",
      "ThreadPoolExecutor-2_3: working on img num: 5000\n",
      "ThreadPoolExecutor-2_2: working on img num: 10000\n",
      "ThreadPoolExecutor-2_4: working on img num: 15000\n",
      "ThreadPoolExecutor-2_9: working on img num: 20000\n",
      "ThreadPoolExecutor-2_11: working on img num: 25000\n",
      "ThreadPoolExecutor-2_8: working on img num: 30000\n",
      "ThreadPoolExecutor-2_7: working on img num: 35000\n",
      "ThreadPoolExecutor-2_10: working on img num: 40000\n",
      "ThreadPoolExecutor-2_11: working on img num: 45000\n",
      "ThreadPoolExecutor-2_9: working on img num: 50000\n",
      "ThreadPoolExecutor-2_0: working on img num: 55000\n",
      "ThreadPoolExecutor-2_11: working on img num: 60000\n",
      "ThreadPoolExecutor-2_0: working on img num: 65000\n",
      "ThreadPoolExecutor-2_7: working on img num: 70000\n",
      "ThreadPoolExecutor-2_7: working on img num: 75000\n",
      "ThreadPoolExecutor-2_6: working on img num: 80000\n",
      "ThreadPoolExecutor-2_2: working on img num: 85000\n",
      "ThreadPoolExecutor-2_4: working on img num: 90000\n",
      "ThreadPoolExecutor-2_7: working on img num: 95000\n",
      "ThreadPoolExecutor-2_6: working on img num: 96856\n",
      "Min Dimensions: [288 432   3]\n",
      "Avg Dimensions: [288. 432.   3.]\n",
      "Median Dimensions: [288. 432.   3.]\n",
      "Max Dimensions: [288 432   3]\n"
     ]
    }
   ],
   "source": [
    "import cv2\n",
    "from concurrent import futures\n",
    "import threading\n",
    "\n",
    "def get_img_shape_parallel(idx, img, total_imgs):\n",
    "    if idx % 5000 == 0 or idx == (total_imgs - 1):\n",
    "        print('{}: working on img num: {}'.format(threading.current_thread().name,\n",
    "                                                  idx))\n",
    "    return cv2.imread(img).shape\n",
    "  \n",
    "ex = futures.ThreadPoolExecutor(max_workers=None)\n",
    "data_inp = [(idx, img, len(train_files)) for idx, img in enumerate(train_files)]\n",
    "print('Starting Img shape computation:')\n",
    "train_img_dims_map = ex.map(get_img_shape_parallel, \n",
    "                            [record[0] for record in data_inp],\n",
    "                            [record[1] for record in data_inp],\n",
    "                            [record[2] for record in data_inp])\n",
    "train_img_dims = list(train_img_dims_map)\n",
    "print('Min Dimensions:', np.min(train_img_dims, axis=0)) \n",
    "print('Avg Dimensions:', np.mean(train_img_dims, axis=0))\n",
    "print('Median Dimensions:', np.median(train_img_dims, axis=0))\n",
    "print('Max Dimensions:', np.max(train_img_dims, axis=0))\n"
   ]
  },
  {
   "cell_type": "code",
   "execution_count": 34,
   "id": "efc8e21c-2c82-4df8-970b-fb4e57e2633c",
   "metadata": {},
   "outputs": [
    {
     "name": "stdout",
     "output_type": "stream",
     "text": [
      "Loading Train Images:\n",
      "ThreadPoolExecutor-3_0: working on img num: 0\n",
      "ThreadPoolExecutor-3_6: working on img num: 5000\n",
      "ThreadPoolExecutor-3_3: working on img num: 10000\n",
      "ThreadPoolExecutor-3_0: working on img num: 15000\n",
      "ThreadPoolExecutor-3_11: working on img num: 20000\n",
      "ThreadPoolExecutor-3_7: working on img num: 25000\n",
      "ThreadPoolExecutor-3_10: working on img num: 30000\n",
      "ThreadPoolExecutor-3_5: working on img num: 35000\n",
      "ThreadPoolExecutor-3_0: working on img num: 40000\n",
      "ThreadPoolExecutor-3_9: working on img num: 45000\n",
      "ThreadPoolExecutor-3_5: working on img num: 50000\n",
      "ThreadPoolExecutor-3_5: working on img num: 55000\n",
      "ThreadPoolExecutor-3_5: working on img num: 60000\n",
      "ThreadPoolExecutor-3_10: working on img num: 65000\n",
      "ThreadPoolExecutor-3_9: working on img num: 70000\n",
      "ThreadPoolExecutor-3_4: working on img num: 75000\n",
      "ThreadPoolExecutor-3_11: working on img num: 80000\n",
      "ThreadPoolExecutor-3_5: working on img num: 85000\n",
      "ThreadPoolExecutor-3_0: working on img num: 90000\n",
      "ThreadPoolExecutor-3_1: working on img num: 95000\n",
      "ThreadPoolExecutor-3_9: working on img num: 96856\n",
      "\n",
      "Loading Validation Images:\n",
      "ThreadPoolExecutor-3_4: working on img num: 0\n",
      "ThreadPoolExecutor-3_6: working on img num: 5000\n",
      "ThreadPoolExecutor-3_3: working on img num: 10000\n",
      "ThreadPoolExecutor-3_7: working on img num: 10761\n",
      "\n",
      "Loading Test Images:\n",
      "ThreadPoolExecutor-3_9: working on img num: 0\n",
      "ThreadPoolExecutor-3_0: working on img num: 5000\n",
      "ThreadPoolExecutor-3_2: working on img num: 10000\n",
      "ThreadPoolExecutor-3_1: working on img num: 15000\n",
      "ThreadPoolExecutor-3_2: working on img num: 20000\n",
      "ThreadPoolExecutor-3_7: working on img num: 25000\n",
      "ThreadPoolExecutor-3_7: working on img num: 30000\n",
      "ThreadPoolExecutor-3_11: working on img num: 35000\n",
      "ThreadPoolExecutor-3_6: working on img num: 40000\n",
      "ThreadPoolExecutor-3_0: working on img num: 45000\n",
      "ThreadPoolExecutor-3_11: working on img num: 46122\n"
     ]
    },
    {
     "data": {
      "text/plain": [
       "((96857, 124, 124, 3), (10762, 124, 124, 3), (46123, 124, 124, 3))"
      ]
     },
     "execution_count": 34,
     "metadata": {},
     "output_type": "execute_result"
    }
   ],
   "source": [
    "IMG_DIMS = (124, 124)\n",
    "\n",
    "def get_img_data_parallel(idx, img, total_imgs):\n",
    "    if idx % 5000 == 0 or idx == (total_imgs - 1):\n",
    "        print('{}: working on img num: {}'.format(threading.current_thread().name,\n",
    "                                                  idx))\n",
    "    img = cv2.imread(img)\n",
    "    img = cv2.resize(img, dsize=IMG_DIMS, \n",
    "                     interpolation=cv2.INTER_CUBIC)\n",
    "    img = np.array(img, dtype=np.float32)\n",
    "    return img\n",
    "\n",
    "ex = futures.ThreadPoolExecutor(max_workers=None)\n",
    "train_data_inp = [(idx, img, len(train_files)) for idx, img in enumerate(train_files)]\n",
    "val_data_inp = [(idx, img, len(val_files)) for idx, img in enumerate(val_files)]\n",
    "test_data_inp = [(idx, img, len(test_files)) for idx, img in enumerate(test_files)]\n",
    "\n",
    "print('Loading Train Images:')\n",
    "train_data_map = ex.map(get_img_data_parallel, \n",
    "                        [record[0] for record in train_data_inp],\n",
    "                        [record[1] for record in train_data_inp],\n",
    "                        [record[2] for record in train_data_inp])\n",
    "train_data = np.array(list(train_data_map))\n",
    "\n",
    "print('\\nLoading Validation Images:')\n",
    "val_data_map = ex.map(get_img_data_parallel, \n",
    "                        [record[0] for record in val_data_inp],\n",
    "                        [record[1] for record in val_data_inp],\n",
    "                        [record[2] for record in val_data_inp])\n",
    "val_data = np.array(list(val_data_map))\n",
    "\n",
    "print('\\nLoading Test Images:')\n",
    "test_data_map = ex.map(get_img_data_parallel, \n",
    "                        [record[0] for record in test_data_inp],\n",
    "                        [record[1] for record in test_data_inp],\n",
    "                        [record[2] for record in test_data_inp])\n",
    "test_data = np.array(list(test_data_map))\n",
    "\n",
    "train_data.shape, val_data.shape, test_data.shape  \n"
   ]
  },
  {
   "cell_type": "code",
   "execution_count": 35,
   "id": "d9ed5bf5-6589-4c18-bf24-2e7a6f4e022e",
   "metadata": {},
   "outputs": [
    {
     "data": {
      "image/png": "[encoded data removed]",
      "text/plain": [
       "<Figure size 576x576 with 16 Axes>"
      ]
     },
     "metadata": {},
     "output_type": "display_data"
    }
   ],
   "source": [
    "import matplotlib.pyplot as plt\n",
    "%matplotlib inline\n",
    "\n",
    "plt.figure(1 , figsize = (8 , 8))\n",
    "n = 0 \n",
    "for i in range(16):\n",
    "    n += 1 \n",
    "    r = np.random.randint(0 , train_data.shape[0] , 1)\n",
    "    plt.subplot(4 , 4 , n)\n",
    "    plt.subplots_adjust(hspace = 0.5 , wspace = 0.5)\n",
    "    plt.imshow(train_data[r[0]]/255.)\n",
    "    plt.title('{}'.format(train_labels[r[0]]))\n",
    "    plt.xticks([]) , plt.yticks([])"
   ]
  },
  {
   "cell_type": "code",
   "execution_count": 36,
   "id": "1190f0c7-cfbf-450f-a3ee-01f7a3ce4534",
   "metadata": {},
   "outputs": [
    {
     "name": "stdout",
     "output_type": "stream",
     "text": [
      "['normal' 'abnormal' 'abnormal' 'abnormal' 'normal' 'abnormal'] [1 0 0 0 1 0]\n"
     ]
    }
   ],
   "source": [
    "BATCH_SIZE = 64\n",
    "NUM_CLASSES = 2\n",
    "EPOCHS = 50\n",
    "INPUT_SHAPE = (124, 124, 3)\n",
    "\n",
    "train_imgs_scaled = train_data / 255.\n",
    "val_imgs_scaled = val_data / 255.\n",
    "\n",
    "# encode text category labels\n",
    "from sklearn.preprocessing import LabelEncoder\n",
    "\n",
    "le = LabelEncoder()\n",
    "le.fit(train_labels)\n",
    "train_labels_enc = le.transform(train_labels)\n",
    "val_labels_enc = le.transform(val_labels)\n",
    "\n",
    "print(train_labels[:6], train_labels_enc[:6])\n"
   ]
  },
  {
   "cell_type": "markdown",
   "id": "c19f4f90-02cb-4775-b5de-57f77ec5bac6",
   "metadata": {},
   "source": [
    "## **CNN Model Architecture**"
   ]
  },
  {
   "cell_type": "code",
   "execution_count": 11,
   "id": "30ced718-370a-446d-923c-c29cff5199d4",
   "metadata": {},
   "outputs": [],
   "source": [
    "from tensorflow.keras.models import Sequential\n",
    "from tensorflow.keras.layers import Dense, Flatten, Convolution2D, BatchNormalization, MaxPooling2D\n",
    "from tensorflow.keras.optimizers import SGD, Adam"
   ]
  },
  {
   "cell_type": "code",
   "execution_count": 12,
   "id": "28b392c3-23db-4293-b406-70cf6ff7730f",
   "metadata": {},
   "outputs": [],
   "source": [
    "inp = tf.keras.layers.Input(shape=INPUT_SHAPE)\n",
    "\n",
    "conv1 = tf.keras.layers.Conv2D(32, kernel_size=(3, 3), \n",
    "                               activation='relu', padding='same')(inp)\n",
    "\n",
    "\n",
    "pool1 = tf.keras.layers.MaxPooling2D(pool_size=(2, 2),strides=2)(conv1)\n",
    "conv2 = tf.keras.layers.Conv2D(64, kernel_size=(3, 3), \n",
    "                               activation='relu', padding='same')(pool1)\n",
    "\n",
    "pool2 = tf.keras.layers.MaxPooling2D(pool_size=(2, 2),strides=2)(conv2)\n",
    "conv3 = tf.keras.layers.Conv2D(128, kernel_size=(2, 2), \n",
    "                               activation='relu', padding='same')(pool2)\n",
    "\n",
    "\n",
    "pool3 = tf.keras.layers.MaxPooling2D(pool_size=(2, 2),strides=2)(conv3)\n",
    "\n",
    "flat = tf.keras.layers.Flatten()(pool3)\n",
    "\n",
    "hidden1 = tf.keras.layers.Dense(128, activation='relu')(flat)\n",
    "\n",
    "hidden2 = tf.keras.layers.Dense(256, activation='relu')(hidden1)\n",
    "\n",
    "out = tf.keras.layers.Dense(1, activation='sigmoid')(hidden2)\n"
   ]
  },
  {
   "cell_type": "code",
   "execution_count": 13,
   "id": "24422a7f-d141-44c1-a396-427990b715af",
   "metadata": {},
   "outputs": [
    {
     "name": "stdout",
     "output_type": "stream",
     "text": [
      "Model: \"model\"\n",
      "_________________________________________________________________\n",
      "Layer (type)                 Output Shape              Param #   \n",
      "=================================================================\n",
      "input_1 (InputLayer)         [(None, 124, 124, 3)]     0         \n",
      "_________________________________________________________________\n",
      "conv2d (Conv2D)              (None, 124, 124, 32)      896       \n",
      "_________________________________________________________________\n",
      "max_pooling2d (MaxPooling2D) (None, 62, 62, 32)        0         \n",
      "_________________________________________________________________\n",
      "conv2d_1 (Conv2D)            (None, 62, 62, 64)        18496     \n",
      "_________________________________________________________________\n",
      "max_pooling2d_1 (MaxPooling2 (None, 31, 31, 64)        0         \n",
      "_________________________________________________________________\n",
      "conv2d_2 (Conv2D)            (None, 31, 31, 128)       32896     \n",
      "_________________________________________________________________\n",
      "max_pooling2d_2 (MaxPooling2 (None, 15, 15, 128)       0         \n",
      "_________________________________________________________________\n",
      "flatten (Flatten)            (None, 28800)             0         \n",
      "_________________________________________________________________\n",
      "dense (Dense)                (None, 128)               3686528   \n",
      "_________________________________________________________________\n",
      "dense_1 (Dense)              (None, 256)               33024     \n",
      "_________________________________________________________________\n",
      "dense_2 (Dense)              (None, 1)                 257       \n",
      "=================================================================\n",
      "Total params: 3,772,097\n",
      "Trainable params: 3,772,097\n",
      "Non-trainable params: 0\n",
      "_________________________________________________________________\n"
     ]
    }
   ],
   "source": [
    "model = tf.keras.Model(inputs=inp, outputs=out)\n",
    "model.compile(optimizer='Adam',\n",
    "                loss='binary_crossentropy',\n",
    "                metrics=['accuracy'])\n",
    "model.summary()"
   ]
  },
  {
   "cell_type": "markdown",
   "id": "d6f5e8cf-85e2-4a9f-aaf8-07fc13cba4d5",
   "metadata": {},
   "source": [
    "## **Model Train**"
   ]
  },
  {
   "cell_type": "code",
   "execution_count": 14,
   "id": "4f8fea16-4926-4853-af55-beb5ff1da4bb",
   "metadata": {
    "tags": []
   },
   "outputs": [
    {
     "name": "stdout",
     "output_type": "stream",
     "text": [
      "Epoch 1/50\n",
      "WARNING:tensorflow:AutoGraph could not transform <function Model.make_train_function.<locals>.train_function at 0x2aaf42160> and will run it as-is.\n",
      "Please report this to the TensorFlow team. When filing the bug, set the verbosity to 10 (on Linux, `export AUTOGRAPH_VERBOSITY=10`) and attach the full output.\n",
      "Cause: unsupported operand type(s) for -: 'NoneType' and 'int'\n",
      "To silence this warning, decorate the function with @tf.autograph.experimental.do_not_convert\n",
      "WARNING: AutoGraph could not transform <function Model.make_train_function.<locals>.train_function at 0x2aaf42160> and will run it as-is.\n",
      "Please report this to the TensorFlow team. When filing the bug, set the verbosity to 10 (on Linux, `export AUTOGRAPH_VERBOSITY=10`) and attach the full output.\n",
      "Cause: unsupported operand type(s) for -: 'NoneType' and 'int'\n",
      "To silence this warning, decorate the function with @tf.autograph.experimental.do_not_convert\n",
      "1514/1514 [==============================] - ETA: 0s - loss: 0.3985 - accuracy: 0.8025WARNING:tensorflow:AutoGraph could not transform <function Model.make_test_function.<locals>.test_function at 0x2b5adea60> and will run it as-is.\n",
      "Please report this to the TensorFlow team. When filing the bug, set the verbosity to 10 (on Linux, `export AUTOGRAPH_VERBOSITY=10`) and attach the full output.\n",
      "Cause: unsupported operand type(s) for -: 'NoneType' and 'int'\n",
      "To silence this warning, decorate the function with @tf.autograph.experimental.do_not_convert\n",
      "WARNING: AutoGraph could not transform <function Model.make_test_function.<locals>.test_function at 0x2b5adea60> and will run it as-is.\n",
      "Please report this to the TensorFlow team. When filing the bug, set the verbosity to 10 (on Linux, `export AUTOGRAPH_VERBOSITY=10`) and attach the full output.\n",
      "Cause: unsupported operand type(s) for -: 'NoneType' and 'int'\n",
      "To silence this warning, decorate the function with @tf.autograph.experimental.do_not_convert\n",
      "1514/1514 [==============================] - 357s 235ms/step - loss: 0.3984 - accuracy: 0.8025 - val_loss: 0.2628 - val_accuracy: 0.8918\n",
      "Epoch 2/50\n",
      "1514/1514 [==============================] - 357s 236ms/step - loss: 0.2231 - accuracy: 0.9114 - val_loss: 0.2102 - val_accuracy: 0.9182\n",
      "Epoch 3/50\n",
      "1514/1514 [==============================] - 365s 241ms/step - loss: 0.1934 - accuracy: 0.9220 - val_loss: 0.1750 - val_accuracy: 0.9296\n",
      "Epoch 4/50\n",
      "1514/1514 [==============================] - 376s 248ms/step - loss: 0.1702 - accuracy: 0.9309 - val_loss: 0.1798 - val_accuracy: 0.9292\n",
      "Epoch 5/50\n",
      "1514/1514 [==============================] - 376s 248ms/step - loss: 0.1536 - accuracy: 0.9395 - val_loss: 0.1679 - val_accuracy: 0.9350\n",
      "Epoch 6/50\n",
      "1514/1514 [==============================] - 386s 255ms/step - loss: 0.1388 - accuracy: 0.9449 - val_loss: 0.1349 - val_accuracy: 0.9457\n",
      "Epoch 7/50\n",
      "1514/1514 [==============================] - 380s 251ms/step - loss: 0.1241 - accuracy: 0.9521 - val_loss: 0.1298 - val_accuracy: 0.9509\n",
      "Epoch 8/50\n",
      "1514/1514 [==============================] - 391s 258ms/step - loss: 0.1172 - accuracy: 0.9531 - val_loss: 0.1262 - val_accuracy: 0.9527\n",
      "Epoch 9/50\n",
      "1514/1514 [==============================] - 404s 267ms/step - loss: 0.1052 - accuracy: 0.9590 - val_loss: 0.1114 - val_accuracy: 0.9574\n",
      "Epoch 10/50\n",
      "1514/1514 [==============================] - 398s 263ms/step - loss: 0.0991 - accuracy: 0.9612 - val_loss: 0.1159 - val_accuracy: 0.9570\n",
      "Epoch 11/50\n",
      "1514/1514 [==============================] - 401s 265ms/step - loss: 0.0916 - accuracy: 0.9643 - val_loss: 0.1122 - val_accuracy: 0.9570\n",
      "Epoch 12/50\n",
      "1514/1514 [==============================] - 398s 263ms/step - loss: 0.0868 - accuracy: 0.9666 - val_loss: 0.1163 - val_accuracy: 0.9585\n",
      "Epoch 13/50\n",
      "1514/1514 [==============================] - 398s 263ms/step - loss: 0.0821 - accuracy: 0.9694 - val_loss: 0.0992 - val_accuracy: 0.9628\n",
      "Epoch 14/50\n",
      "1514/1514 [==============================] - 406s 268ms/step - loss: 0.0781 - accuracy: 0.9706 - val_loss: 0.1034 - val_accuracy: 0.9639\n",
      "Epoch 15/50\n",
      "1514/1514 [==============================] - 397s 262ms/step - loss: 0.0740 - accuracy: 0.9722 - val_loss: 0.1009 - val_accuracy: 0.9633\n",
      "Epoch 16/50\n",
      "1514/1514 [==============================] - 387s 256ms/step - loss: 0.0690 - accuracy: 0.9736 - val_loss: 0.0984 - val_accuracy: 0.9647\n",
      "Epoch 17/50\n",
      "1514/1514 [==============================] - 372s 245ms/step - loss: 0.0679 - accuracy: 0.9750 - val_loss: 0.0962 - val_accuracy: 0.9654\n",
      "Epoch 18/50\n",
      "1514/1514 [==============================] - 372s 246ms/step - loss: 0.0636 - accuracy: 0.9756 - val_loss: 0.0985 - val_accuracy: 0.9663\n",
      "Epoch 19/50\n",
      "1514/1514 [==============================] - 373s 246ms/step - loss: 0.0617 - accuracy: 0.9764 - val_loss: 0.1023 - val_accuracy: 0.9648\n",
      "Epoch 20/50\n",
      "1514/1514 [==============================] - 373s 247ms/step - loss: 0.0616 - accuracy: 0.9765 - val_loss: 0.0948 - val_accuracy: 0.9680\n",
      "Epoch 21/50\n",
      "1514/1514 [==============================] - 376s 248ms/step - loss: 0.0568 - accuracy: 0.9793 - val_loss: 0.0935 - val_accuracy: 0.9668\n",
      "Epoch 22/50\n",
      "1514/1514 [==============================] - 376s 248ms/step - loss: 0.0559 - accuracy: 0.9782 - val_loss: 0.0903 - val_accuracy: 0.9693\n",
      "Epoch 23/50\n",
      "1514/1514 [==============================] - 378s 250ms/step - loss: 0.0525 - accuracy: 0.9807 - val_loss: 0.0952 - val_accuracy: 0.9697\n",
      "Epoch 24/50\n",
      "1514/1514 [==============================] - 378s 250ms/step - loss: 0.0494 - accuracy: 0.9819 - val_loss: 0.1026 - val_accuracy: 0.9650\n",
      "Epoch 25/50\n",
      "1514/1514 [==============================] - 383s 253ms/step - loss: 0.0483 - accuracy: 0.9820 - val_loss: 0.1074 - val_accuracy: 0.9652\n",
      "Epoch 26/50\n",
      "1514/1514 [==============================] - 394s 260ms/step - loss: 0.0451 - accuracy: 0.9835 - val_loss: 0.1036 - val_accuracy: 0.9667\n",
      "Epoch 27/50\n",
      "1514/1514 [==============================] - 415s 274ms/step - loss: 0.0480 - accuracy: 0.9821 - val_loss: 0.1005 - val_accuracy: 0.9703\n",
      "Epoch 28/50\n",
      "1514/1514 [==============================] - 403s 266ms/step - loss: 0.0463 - accuracy: 0.9821 - val_loss: 0.1030 - val_accuracy: 0.9662\n",
      "Epoch 29/50\n",
      "1514/1514 [==============================] - 411s 271ms/step - loss: 0.0439 - accuracy: 0.9835 - val_loss: 0.1126 - val_accuracy: 0.9635\n",
      "Epoch 30/50\n",
      "1514/1514 [==============================] - 406s 268ms/step - loss: 0.0415 - accuracy: 0.9848 - val_loss: 0.1055 - val_accuracy: 0.9668\n",
      "Epoch 31/50\n",
      "1514/1514 [==============================] - 394s 261ms/step - loss: 0.0395 - accuracy: 0.9859 - val_loss: 0.1231 - val_accuracy: 0.9652\n",
      "Epoch 32/50\n",
      "1514/1514 [==============================] - 400s 264ms/step - loss: 0.0386 - accuracy: 0.9856 - val_loss: 0.0973 - val_accuracy: 0.9705\n",
      "Epoch 33/50\n",
      "1514/1514 [==============================] - 408s 269ms/step - loss: 0.0392 - accuracy: 0.9858 - val_loss: 0.1014 - val_accuracy: 0.9667\n",
      "Epoch 34/50\n",
      "1514/1514 [==============================] - 386s 255ms/step - loss: 0.0363 - accuracy: 0.9864 - val_loss: 0.1051 - val_accuracy: 0.9679\n",
      "Epoch 35/50\n",
      "1514/1514 [==============================] - 386s 255ms/step - loss: 0.0356 - accuracy: 0.9869 - val_loss: 0.1224 - val_accuracy: 0.9676\n",
      "Epoch 36/50\n",
      "1514/1514 [==============================] - 389s 257ms/step - loss: 0.0339 - accuracy: 0.9877 - val_loss: 0.1167 - val_accuracy: 0.9694\n",
      "Epoch 37/50\n",
      "1514/1514 [==============================] - 371s 245ms/step - loss: 0.0355 - accuracy: 0.9864 - val_loss: 0.1378 - val_accuracy: 0.9630\n",
      "Epoch 38/50\n",
      "1514/1514 [==============================] - 367s 242ms/step - loss: 0.0313 - accuracy: 0.9883 - val_loss: 0.1199 - val_accuracy: 0.9696\n",
      "Epoch 39/50\n",
      "1514/1514 [==============================] - 366s 242ms/step - loss: 0.0339 - accuracy: 0.9876 - val_loss: 0.1199 - val_accuracy: 0.9649\n",
      "Epoch 40/50\n",
      "1514/1514 [==============================] - 371s 245ms/step - loss: 0.0351 - accuracy: 0.9874 - val_loss: 0.1006 - val_accuracy: 0.9717\n",
      "Epoch 41/50\n",
      "1514/1514 [==============================] - 377s 249ms/step - loss: 0.0313 - accuracy: 0.9887 - val_loss: 0.1155 - val_accuracy: 0.9674\n",
      "Epoch 42/50\n",
      "1514/1514 [==============================] - 380s 251ms/step - loss: 0.0296 - accuracy: 0.9892 - val_loss: 0.1226 - val_accuracy: 0.9642\n",
      "Epoch 43/50\n",
      "1514/1514 [==============================] - 378s 250ms/step - loss: 0.0310 - accuracy: 0.9877 - val_loss: 0.1240 - val_accuracy: 0.9652\n",
      "Epoch 44/50\n",
      "1514/1514 [==============================] - 378s 250ms/step - loss: 0.0313 - accuracy: 0.9886 - val_loss: 0.1239 - val_accuracy: 0.9655\n",
      "Epoch 45/50\n",
      "1514/1514 [==============================] - 377s 249ms/step - loss: 0.0293 - accuracy: 0.9892 - val_loss: 0.1121 - val_accuracy: 0.9705\n",
      "Epoch 46/50\n",
      "1514/1514 [==============================] - 377s 249ms/step - loss: 0.0276 - accuracy: 0.9898 - val_loss: 0.1173 - val_accuracy: 0.9683\n",
      "Epoch 47/50\n",
      "1514/1514 [==============================] - 377s 249ms/step - loss: 0.0279 - accuracy: 0.9902 - val_loss: 0.1208 - val_accuracy: 0.9703\n",
      "Epoch 48/50\n",
      "1514/1514 [==============================] - 376s 248ms/step - loss: 0.0290 - accuracy: 0.9893 - val_loss: 0.1188 - val_accuracy: 0.9699\n",
      "Epoch 49/50\n",
      "1514/1514 [==============================] - 374s 247ms/step - loss: 0.0256 - accuracy: 0.9906 - val_loss: 0.1242 - val_accuracy: 0.9708\n",
      "Epoch 50/50\n",
      "1514/1514 [==============================] - 376s 248ms/step - loss: 0.0271 - accuracy: 0.9899 - val_loss: 0.1388 - val_accuracy: 0.9652\n"
     ]
    }
   ],
   "source": [
    "# tf.config.run_functions_eagerly(True)\n",
    "history = model.fit(x=train_imgs_scaled, y=train_labels_enc, \n",
    "                    batch_size=BATCH_SIZE,\n",
    "                    epochs=EPOCHS, \n",
    "                    validation_data=(val_imgs_scaled, val_labels_enc), \n",
    "                    #callbacks=callbacks,\n",
    "                    verbose=1)"
   ]
  },
  {
   "cell_type": "code",
   "execution_count": 15,
   "id": "3f64a8fc-df31-4cab-aef4-c91af64defb6",
   "metadata": {},
   "outputs": [
    {
     "data": {
      "image/png": "[encoded data removed]",
      "text/plain": [
       "<Figure size 864x288 with 2 Axes>"
      ]
     },
     "metadata": {
      "needs_background": "light"
     },
     "output_type": "display_data"
    }
   ],
   "source": [
    " f, (ax1, ax2) = plt.subplots(1, 2, figsize=(12, 4))\n",
    "t = f.suptitle('Basic CNN Performance', fontsize=12)\n",
    "f.subplots_adjust(top=0.85, wspace=0.3)\n",
    "\n",
    "max_epoch = len(history.history['accuracy'])+1\n",
    "epoch_list = list(range(1,max_epoch))\n",
    "ax1.plot(epoch_list, history.history['accuracy'], label='Train Accuracy')\n",
    "ax1.plot(epoch_list, history.history['val_accuracy'], label='Validation Accuracy')\n",
    "ax1.set_xticks(np.arange(1, max_epoch, 5))\n",
    "ax1.set_ylabel('Accuracy Value')\n",
    "ax1.set_xlabel('Epoch')\n",
    "ax1.set_title('Accuracy')\n",
    "l1 = ax1.legend(loc=\"best\")\n",
    "\n",
    "ax2.plot(epoch_list, history.history['loss'], label='Train Loss')\n",
    "ax2.plot(epoch_list, history.history['val_loss'], label='Validation Loss')\n",
    "ax2.set_xticks(np.arange(1, max_epoch, 5))\n",
    "ax2.set_ylabel('Loss Value')\n",
    "ax2.set_xlabel('Epoch')\n",
    "ax2.set_title('Loss')\n",
    "l2 = ax2.legend(loc=\"best\")"
   ]
  },
  {
   "cell_type": "code",
   "execution_count": 16,
   "id": "a1c3d9bd-a8e0-4fd0-a453-189ca19b0e99",
   "metadata": {},
   "outputs": [],
   "source": [
    "model.save('CNN_version_1.h5')"
   ]
  },
  {
   "cell_type": "code",
   "execution_count": 12,
   "id": "def322e7-b650-415c-9a5e-6cf49878f1f3",
   "metadata": {},
   "outputs": [],
   "source": [
    "basic_cnn = tf.keras.models.load_model('./CNN_version_1.h5')"
   ]
  },
  {
   "cell_type": "markdown",
   "id": "af9cb653-5227-4705-b129-5b500b05509e",
   "metadata": {},
   "source": [
    "## **Model Evaluation**"
   ]
  },
  {
   "cell_type": "code",
   "execution_count": 13,
   "id": "16efa3de-315f-45cf-8479-a9b6c9d67a97",
   "metadata": {},
   "outputs": [
    {
     "data": {
      "text/plain": [
       "((46123, 124, 124, 3), (46123,))"
      ]
     },
     "execution_count": 13,
     "metadata": {},
     "output_type": "execute_result"
    }
   ],
   "source": [
    "test_imgs_scaled = test_data / 255.\n",
    "test_imgs_scaled.shape, test_labels.shape"
   ]
  },
  {
   "cell_type": "code",
   "execution_count": 14,
   "id": "35ed15e1-7442-4bb4-b03d-28d8012d88d6",
   "metadata": {},
   "outputs": [
    {
     "name": "stdout",
     "output_type": "stream",
     "text": [
      "WARNING:tensorflow:AutoGraph could not transform <function Model.make_predict_function.<locals>.predict_function at 0x2a837d0d0> and will run it as-is.\n",
      "Please report this to the TensorFlow team. When filing the bug, set the verbosity to 10 (on Linux, `export AUTOGRAPH_VERBOSITY=10`) and attach the full output.\n",
      "Cause: unsupported operand type(s) for -: 'NoneType' and 'int'\n",
      "To silence this warning, decorate the function with @tf.autograph.experimental.do_not_convert\n",
      "WARNING: AutoGraph could not transform <function Model.make_predict_function.<locals>.predict_function at 0x2a837d0d0> and will run it as-is.\n",
      "Please report this to the TensorFlow team. When filing the bug, set the verbosity to 10 (on Linux, `export AUTOGRAPH_VERBOSITY=10`) and attach the full output.\n",
      "Cause: unsupported operand type(s) for -: 'NoneType' and 'int'\n",
      "To silence this warning, decorate the function with @tf.autograph.experimental.do_not_convert\n"
     ]
    }
   ],
   "source": [
    "basic_cnn_preds = basic_cnn.predict(test_imgs_scaled, batch_size=512)"
   ]
  },
  {
   "cell_type": "code",
   "execution_count": 15,
   "id": "7d7cbfee-9ac1-40fb-acbd-cbacf993d615",
   "metadata": {},
   "outputs": [],
   "source": [
    "basic_cnn_pred_labels = le.inverse_transform([1 if pred > 0.5 else 0 \n",
    "                                                  for pred in basic_cnn_preds.ravel()])"
   ]
  },
  {
   "cell_type": "code",
   "execution_count": 16,
   "id": "65a031bc-8cc9-4a05-a725-c4ca1bf92672",
   "metadata": {},
   "outputs": [
    {
     "name": "stdout",
     "output_type": "stream",
     "text": [
      "Accuracy: (0.9672397719142294, 4)\n"
     ]
    }
   ],
   "source": [
    "print('Accuracy:', (metrics.accuracy_score(test_labels, basic_cnn_pred_labels),4))"
   ]
  },
  {
   "cell_type": "code",
   "execution_count": 17,
   "id": "a72381da-12f3-4c2f-ad83-069facf0dc23",
   "metadata": {},
   "outputs": [
    {
     "name": "stdout",
     "output_type": "stream",
     "text": [
      "Precision: (0.967239769041074, 4)\n"
     ]
    }
   ],
   "source": [
    "print('Precision:',(metrics.precision_score(test_labels, basic_cnn_pred_labels,average='weighted'),\n",
    "    4))"
   ]
  },
  {
   "cell_type": "code",
   "execution_count": 18,
   "id": "4c39f81a-0c07-40c8-8c2f-b127025612f9",
   "metadata": {},
   "outputs": [
    {
     "name": "stdout",
     "output_type": "stream",
     "text": [
      "Recall: (0.9672397719142294, 4)\n"
     ]
    }
   ],
   "source": [
    "print('Recall:',(metrics.recall_score(test_labels, basic_cnn_pred_labels,average='weighted'),4))"
   ]
  },
  {
   "cell_type": "code",
   "execution_count": 19,
   "id": "b10ebc78-8a4b-4271-b049-e297ce5e05e8",
   "metadata": {},
   "outputs": [
    {
     "name": "stdout",
     "output_type": "stream",
     "text": [
      "F1 Score: (0.9672397481981758, 4)\n"
     ]
    }
   ],
   "source": [
    " print('F1 Score:',(metrics.f1_score(test_labels, basic_cnn_pred_labels,average='weighted'),4))"
   ]
  },
  {
   "cell_type": "code",
   "execution_count": 20,
   "id": "baff7b89-9394-4d39-b3a3-8829c9f09a6b",
   "metadata": {},
   "outputs": [
    {
     "data": {
      "image/png": "[encoded data removed]",
      "text/plain": [
       "<Figure size 864x720 with 2 Axes>"
      ]
     },
     "metadata": {
      "needs_background": "light"
     },
     "output_type": "display_data"
    }
   ],
   "source": [
    "from sklearn.metrics import confusion_matrix, roc_curve\n",
    "import seaborn as sns\n",
    "import matplotlib.pyplot as plt\n",
    "\n",
    "cm_data = confusion_matrix(test_labels, basic_cnn_pred_labels, labels=[\"abnormal\", \"normal\"])\n",
    "# ax= plt.subplot()\n",
    "fig, ax = plt.subplots(figsize=(12, 10))\n",
    "group_names = ['True Neg','False Pos','False Neg','True Pos']\n",
    "group_counts = [\"{0:0.0f}\".format(value) for value in cm_data.flatten()]\n",
    "group_percentages = [\"{0:.2%}\".format(value) for value in cm_data.flatten()/np.sum(cm_data)]\n",
    "labels = [f\"{v1}\\n{v2}\\n{v3}\" for v1, v2, v3 in zip(group_names,group_counts,group_percentages)]\n",
    "labels = np.asarray(labels).reshape(2,2)\n",
    "sns.heatmap(cm_data, annot=labels, fmt='', ax=ax, cmap='Reds');\n",
    "\n",
    "# # labels, title and ticks\n",
    "ax.set_xlabel('Predicted labels');ax.set_ylabel('True labels'); \n",
    "ax.set_title('Confusion Matrix for True vs Predicted labels'); \n",
    "ax.xaxis.set_ticklabels(['Abnormal', 'Normal']); ax.yaxis.set_ticklabels(['Abnormal', 'Normal']);"
   ]
  },
  {
   "cell_type": "code",
   "execution_count": 21,
   "id": "f49d3f9a-c77d-4a33-b738-c66db50d429a",
   "metadata": {},
   "outputs": [
    {
     "data": {
      "image/png": "[encoded data removed]",
      "text/plain": [
       "<Figure size 432x288 with 1 Axes>"
      ]
     },
     "metadata": {
      "needs_background": "light"
     },
     "output_type": "display_data"
    }
   ],
   "source": [
    "y_scores=basic_cnn_preds[:,0]\n",
    "y_true=test_labels[:]\n",
    "fpr, tpr, _ = roc_curve(y_true, y_scores, pos_label='normal')\n",
    "plt.title(\"AUC-ROC curve\")\n",
    "plt.xlabel(\"False positive rate\")\n",
    "plt.ylabel(\"True positive rate\")\n",
    "plt.plot([0, 1], [0, 1], linestyle='--', lw=2, color='r')\n",
    "# auc = metrics.roc_auc_score(y_test, y_pred_proba)\n",
    "plt.plot(fpr,tpr)\n",
    "# plt.legend(loc=4)\n",
    "plt.show()"
   ]
  }
 ],
 "metadata": {
  "kernelspec": {
   "display_name": "Python 3",
   "language": "python",
   "name": "python3"
  },
  "language_info": {
   "codemirror_mode": {
    "name": "ipython",
    "version": 3
   },
   "file_extension": ".py",
   "mimetype": "text/x-python",
   "name": "python",
   "nbconvert_exporter": "python",
   "pygments_lexer": "ipython3",
   "version": "3.8.5"
  }
 },
 "nbformat": 4,
 "nbformat_minor": 5
}
