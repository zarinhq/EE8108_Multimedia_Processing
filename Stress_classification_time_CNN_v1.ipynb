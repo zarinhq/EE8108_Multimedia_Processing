{
 "cells": [
  {
   "cell_type": "code",
   "execution_count": 1,
   "id": "8aefe496-eafb-4a03-9470-410c58cbf420",
   "metadata": {},
   "outputs": [
    {
     "name": "stdout",
     "output_type": "stream",
     "text": [
      "Requirement already satisfied: wfdb in /Users/anan/miniforge3/envs/ml/lib/python3.8/site-packages (3.4.1)\n",
      "Requirement already satisfied: wget in /Users/anan/miniforge3/envs/ml/lib/python3.8/site-packages (3.2)\n",
      "Requirement already satisfied: tqdm in /Users/anan/miniforge3/envs/ml/lib/python3.8/site-packages (4.61.2)\n",
      "Requirement already satisfied: biosppy in /Users/anan/miniforge3/envs/ml/lib/python3.8/site-packages (0.8.0)\n",
      "Requirement already satisfied: imbalanced-learn in /Users/anan/miniforge3/envs/ml/lib/python3.8/site-packages (0.8.1)\n",
      "Requirement already satisfied: pandas>=0.17.0 in /Users/anan/miniforge3/envs/ml/lib/python3.8/site-packages (from wfdb) (1.3.0)\n",
      "Requirement already satisfied: numpy>=1.10.1 in /Users/anan/miniforge3/envs/ml/lib/python3.8/site-packages (from wfdb) (1.21.0)\n",
      "Requirement already satisfied: requests>=2.8.1 in /Users/anan/miniforge3/envs/ml/lib/python3.8/site-packages (from wfdb) (2.25.1)\n",
      "Requirement already satisfied: matplotlib>=3.3.4 in /Users/anan/miniforge3/envs/ml/lib/python3.8/site-packages (from wfdb) (3.4.2)\n",
      "Requirement already satisfied: scipy>=0.17.0 in /Users/anan/miniforge3/envs/ml/lib/python3.8/site-packages (from wfdb) (1.7.0)\n",
      "Requirement already satisfied: cycler>=0.10 in /Users/anan/miniforge3/envs/ml/lib/python3.8/site-packages (from matplotlib>=3.3.4->wfdb) (0.10.0)\n",
      "Requirement already satisfied: python-dateutil>=2.7 in /Users/anan/miniforge3/envs/ml/lib/python3.8/site-packages (from matplotlib>=3.3.4->wfdb) (2.8.1)\n",
      "Requirement already satisfied: pyparsing>=2.2.1 in /Users/anan/miniforge3/envs/ml/lib/python3.8/site-packages (from matplotlib>=3.3.4->wfdb) (2.4.7)\n",
      "Requirement already satisfied: kiwisolver>=1.0.1 in /Users/anan/miniforge3/envs/ml/lib/python3.8/site-packages (from matplotlib>=3.3.4->wfdb) (1.3.1)\n",
      "Requirement already satisfied: pillow>=6.2.0 in /Users/anan/miniforge3/envs/ml/lib/python3.8/site-packages (from matplotlib>=3.3.4->wfdb) (8.3.1)\n",
      "Requirement already satisfied: six in /Users/anan/miniforge3/envs/ml/lib/python3.8/site-packages (from cycler>=0.10->matplotlib>=3.3.4->wfdb) (1.16.0)\n",
      "Requirement already satisfied: pytz>=2017.3 in /Users/anan/miniforge3/envs/ml/lib/python3.8/site-packages (from pandas>=0.17.0->wfdb) (2021.1)\n",
      "Requirement already satisfied: certifi>=2017.4.17 in /Users/anan/miniforge3/envs/ml/lib/python3.8/site-packages (from requests>=2.8.1->wfdb) (2021.5.30)\n",
      "Requirement already satisfied: chardet<5,>=3.0.2 in /Users/anan/miniforge3/envs/ml/lib/python3.8/site-packages (from requests>=2.8.1->wfdb) (4.0.0)\n",
      "Requirement already satisfied: idna<3,>=2.5 in /Users/anan/miniforge3/envs/ml/lib/python3.8/site-packages (from requests>=2.8.1->wfdb) (2.10)\n",
      "Requirement already satisfied: urllib3<1.27,>=1.21.1 in /Users/anan/miniforge3/envs/ml/lib/python3.8/site-packages (from requests>=2.8.1->wfdb) (1.26.6)\n",
      "Requirement already satisfied: bidict in /Users/anan/miniforge3/envs/ml/lib/python3.8/site-packages (from biosppy) (0.21.4)\n",
      "Requirement already satisfied: opencv-python in /Users/anan/miniforge3/envs/ml/lib/python3.8/site-packages (from biosppy) (4.5.4.60)\n",
      "Requirement already satisfied: joblib in /Users/anan/miniforge3/envs/ml/lib/python3.8/site-packages (from biosppy) (1.0.1)\n",
      "Requirement already satisfied: shortuuid in /Users/anan/miniforge3/envs/ml/lib/python3.8/site-packages (from biosppy) (1.0.8)\n",
      "Requirement already satisfied: scikit-learn in /Users/anan/miniforge3/envs/ml/lib/python3.8/site-packages (from biosppy) (0.24.2)\n",
      "Requirement already satisfied: h5py in /Users/anan/miniforge3/envs/ml/lib/python3.8/site-packages (from biosppy) (2.10.0)\n",
      "Requirement already satisfied: threadpoolctl>=2.0.0 in /Users/anan/miniforge3/envs/ml/lib/python3.8/site-packages (from scikit-learn->biosppy) (2.1.0)\n",
      "Note: you may need to restart the kernel to use updated packages.\n"
     ]
    }
   ],
   "source": [
    "pip install wfdb wget tqdm biosppy imbalanced-learn"
   ]
  },
  {
   "cell_type": "code",
   "execution_count": 2,
   "id": "4ae8c1f7-0683-4868-b122-fe2b7be25573",
   "metadata": {},
   "outputs": [
    {
     "name": "stdout",
     "output_type": "stream",
     "text": [
      "Found existing installation: matplotlib 3.1.3\n",
      "Uninstalling matplotlib-3.1.3:\n",
      "  Successfully uninstalled matplotlib-3.1.3\n",
      "Collecting matplotlib==3.1.3\n",
      "  Using cached matplotlib-3.1.3-cp39-cp39-macosx_11_0_arm64.whl\n",
      "Requirement already satisfied: python-dateutil>=2.1 in /Users/anan/miniforge3/lib/python3.9/site-packages (from matplotlib==3.1.3) (2.8.2)\n",
      "Requirement already satisfied: cycler>=0.10 in /Users/anan/miniforge3/lib/python3.9/site-packages (from matplotlib==3.1.3) (0.10.0)\n",
      "Requirement already satisfied: pyparsing!=2.0.4,!=2.1.2,!=2.1.6,>=2.0.1 in /Users/anan/miniforge3/lib/python3.9/site-packages (from matplotlib==3.1.3) (2.4.7)\n",
      "Requirement already satisfied: numpy>=1.11 in /Users/anan/miniforge3/lib/python3.9/site-packages (from matplotlib==3.1.3) (1.21.1)\n",
      "Requirement already satisfied: kiwisolver>=1.0.1 in /Users/anan/miniforge3/lib/python3.9/site-packages (from matplotlib==3.1.3) (1.3.1)\n",
      "Requirement already satisfied: six in /Users/anan/miniforge3/lib/python3.9/site-packages (from cycler>=0.10->matplotlib==3.1.3) (1.15.0)\n",
      "Installing collected packages: matplotlib\n",
      "Successfully installed matplotlib-3.1.3\n"
     ]
    }
   ],
   "source": [
    "!pip uninstall matplotlib --yes\n",
    "!pip install matplotlib==3.1.3 "
   ]
  },
  {
   "cell_type": "code",
   "execution_count": 3,
   "id": "de41c8bd-1ecc-459f-a5e0-793755ef08dd",
   "metadata": {},
   "outputs": [],
   "source": [
    "import tensorflow as tf\n",
    "import matplotlib.pyplot as plt\n",
    "import pandas as pd\n",
    "import numpy as np\n",
    "from glob import glob\n",
    "import wget\n",
    "import zipfile\n",
    "import wfdb as wf\n",
    "import os\n",
    "from scipy import signal\n",
    "from biosppy.signals import ecg\n",
    "import cv2\n",
    "from sklearn.model_selection import train_test_split\n",
    "from collections import Counter\n",
    "from sklearn.preprocessing import LabelEncoder\n",
    "from imblearn.over_sampling import SMOTE\n",
    "from sklearn import metrics"
   ]
  },
  {
   "cell_type": "code",
   "execution_count": 4,
   "id": "ed5c7c29-6c31-4b63-82eb-c822bbcb43db",
   "metadata": {},
   "outputs": [
    {
     "data": {
      "text/plain": [
       "(76871, 76871)"
      ]
     },
     "execution_count": 4,
     "metadata": {},
     "output_type": "execute_result"
    }
   ],
   "source": [
    "base_dir = os.path.join('./data_ecg_time/Spectrogram/')\n",
    "Abnormal_dir = os.path.join(base_dir,'Abnormal')\n",
    "Normal_dir = os.path.join(base_dir,'Normal')\n",
    "\n",
    "Abnormal_files = glob(Abnormal_dir+'/*.png')\n",
    "Normal_files = glob(Normal_dir+'/*.png')\n",
    "len(Abnormal_files), len(Normal_files)"
   ]
  },
  {
   "cell_type": "code",
   "execution_count": 5,
   "id": "05e81940-9bcb-4fec-994f-653b509fd3d7",
   "metadata": {},
   "outputs": [
    {
     "data": {
      "text/html": [
       "<div>\n",
       "<style scoped>\n",
       "    .dataframe tbody tr th:only-of-type {\n",
       "        vertical-align: middle;\n",
       "    }\n",
       "\n",
       "    .dataframe tbody tr th {\n",
       "        vertical-align: top;\n",
       "    }\n",
       "\n",
       "    .dataframe thead th {\n",
       "        text-align: right;\n",
       "    }\n",
       "</style>\n",
       "<table border=\"1\" class=\"dataframe\">\n",
       "  <thead>\n",
       "    <tr style=\"text-align: right;\">\n",
       "      <th></th>\n",
       "      <th>filename</th>\n",
       "      <th>label</th>\n",
       "    </tr>\n",
       "  </thead>\n",
       "  <tbody>\n",
       "    <tr>\n",
       "      <th>0</th>\n",
       "      <td>./data_ecg_time/Spectrogram/Normal/79717.png</td>\n",
       "      <td>normal</td>\n",
       "    </tr>\n",
       "    <tr>\n",
       "      <th>1</th>\n",
       "      <td>./data_ecg_time/Spectrogram/Abnormal/118632.png</td>\n",
       "      <td>abnormal</td>\n",
       "    </tr>\n",
       "    <tr>\n",
       "      <th>2</th>\n",
       "      <td>./data_ecg_time/Spectrogram/Normal/6741.png</td>\n",
       "      <td>normal</td>\n",
       "    </tr>\n",
       "    <tr>\n",
       "      <th>3</th>\n",
       "      <td>./data_ecg_time/Spectrogram/Abnormal/138937.png</td>\n",
       "      <td>abnormal</td>\n",
       "    </tr>\n",
       "    <tr>\n",
       "      <th>4</th>\n",
       "      <td>./data_ecg_time/Spectrogram/Abnormal/60980.png</td>\n",
       "      <td>abnormal</td>\n",
       "    </tr>\n",
       "  </tbody>\n",
       "</table>\n",
       "</div>"
      ],
      "text/plain": [
       "                                          filename     label\n",
       "0     ./data_ecg_time/Spectrogram/Normal/79717.png    normal\n",
       "1  ./data_ecg_time/Spectrogram/Abnormal/118632.png  abnormal\n",
       "2      ./data_ecg_time/Spectrogram/Normal/6741.png    normal\n",
       "3  ./data_ecg_time/Spectrogram/Abnormal/138937.png  abnormal\n",
       "4   ./data_ecg_time/Spectrogram/Abnormal/60980.png  abnormal"
      ]
     },
     "execution_count": 5,
     "metadata": {},
     "output_type": "execute_result"
    }
   ],
   "source": [
    "np.random.seed(42)\n",
    "\n",
    "files_df = pd.DataFrame({\n",
    "    'filename': Abnormal_files + Normal_files,\n",
    "    'label': ['abnormal'] * len(Abnormal_files) + ['normal'] * len(Normal_files)\n",
    "}).sample(frac=1, random_state=42).reset_index(drop=True)\n",
    "\n",
    "files_df.head()"
   ]
  },
  {
   "cell_type": "code",
   "execution_count": 6,
   "id": "551dbf3a-295a-456d-ac26-2369ca504ce3",
   "metadata": {},
   "outputs": [
    {
     "name": "stdout",
     "output_type": "stream",
     "text": [
      "(96857,) (10762,) (46123,)\n",
      "Train: Counter({'abnormal': 48586, 'normal': 48271}) \n",
      "Val: Counter({'normal': 5432, 'abnormal': 5330}) \n",
      "Test: Counter({'normal': 23168, 'abnormal': 22955})\n"
     ]
    }
   ],
   "source": [
    "train_files, test_files, train_labels, test_labels = train_test_split(files_df['filename'].values,\n",
    "                                                                      files_df['label'].values, \n",
    "                                                                      test_size=0.3, random_state=42)\n",
    "train_files, val_files, train_labels, val_labels = train_test_split(train_files,\n",
    "                                                                    train_labels, \n",
    "                                                                    test_size=0.1, random_state=42)\n",
    "\n",
    "print(train_files.shape, val_files.shape, test_files.shape)\n",
    "print('Train:', Counter(train_labels), '\\nVal:', Counter(val_labels), '\\nTest:', Counter(test_labels))\n",
    "\n"
   ]
  },
  {
   "cell_type": "code",
   "execution_count": 7,
   "id": "c914c73c-fd61-4a5f-9c7a-03fb84769835",
   "metadata": {},
   "outputs": [
    {
     "name": "stdout",
     "output_type": "stream",
     "text": [
      "Starting Img shape computation:\n",
      "ThreadPoolExecutor-0_0: working on img num: 0\n",
      "ThreadPoolExecutor-0_10: working on img num: 5000\n",
      "ThreadPoolExecutor-0_4: working on img num: 10000\n",
      "ThreadPoolExecutor-0_2: working on img num: 15000\n",
      "ThreadPoolExecutor-0_1: working on img num: 20000\n",
      "ThreadPoolExecutor-0_5: working on img num: 25000\n",
      "ThreadPoolExecutor-0_10: working on img num: 30000\n",
      "ThreadPoolExecutor-0_4: working on img num: 35000\n",
      "ThreadPoolExecutor-0_9: working on img num: 40000\n",
      "ThreadPoolExecutor-0_10: working on img num: 45000\n",
      "ThreadPoolExecutor-0_0: working on img num: 50000\n",
      "ThreadPoolExecutor-0_4: working on img num: 55000\n",
      "ThreadPoolExecutor-0_5: working on img num: 60000\n",
      "ThreadPoolExecutor-0_9: working on img num: 65000\n",
      "ThreadPoolExecutor-0_0: working on img num: 70000\n",
      "ThreadPoolExecutor-0_8: working on img num: 75000\n",
      "ThreadPoolExecutor-0_0: working on img num: 80000\n",
      "ThreadPoolExecutor-0_7: working on img num: 85000\n",
      "ThreadPoolExecutor-0_10: working on img num: 90000\n",
      "ThreadPoolExecutor-0_5: working on img num: 95000\n",
      "ThreadPoolExecutor-0_9: working on img num: 96856\n",
      "Min Dimensions: [288 432   3]\n",
      "Avg Dimensions: [288. 432.   3.]\n",
      "Median Dimensions: [288. 432.   3.]\n",
      "Max Dimensions: [288 432   3]\n"
     ]
    }
   ],
   "source": [
    "import cv2\n",
    "from concurrent import futures\n",
    "import threading\n",
    "\n",
    "def get_img_shape_parallel(idx, img, total_imgs):\n",
    "    if idx % 5000 == 0 or idx == (total_imgs - 1):\n",
    "        print('{}: working on img num: {}'.format(threading.current_thread().name,\n",
    "                                                  idx))\n",
    "    return cv2.imread(img).shape\n",
    "  \n",
    "ex = futures.ThreadPoolExecutor(max_workers=None)\n",
    "data_inp = [(idx, img, len(train_files)) for idx, img in enumerate(train_files)]\n",
    "print('Starting Img shape computation:')\n",
    "train_img_dims_map = ex.map(get_img_shape_parallel, \n",
    "                            [record[0] for record in data_inp],\n",
    "                            [record[1] for record in data_inp],\n",
    "                            [record[2] for record in data_inp])\n",
    "train_img_dims = list(train_img_dims_map)\n",
    "print('Min Dimensions:', np.min(train_img_dims, axis=0)) \n",
    "print('Avg Dimensions:', np.mean(train_img_dims, axis=0))\n",
    "print('Median Dimensions:', np.median(train_img_dims, axis=0))\n",
    "print('Max Dimensions:', np.max(train_img_dims, axis=0))"
   ]
  },
  {
   "cell_type": "code",
   "execution_count": 8,
   "id": "f9bf4449-2173-4d0c-9fd2-bbb3c9d4caed",
   "metadata": {},
   "outputs": [
    {
     "name": "stdout",
     "output_type": "stream",
     "text": [
      "Loading Train Images:\n",
      "ThreadPoolExecutor-1_0: working on img num: 0\n",
      "ThreadPoolExecutor-1_4: working on img num: 5000\n",
      "ThreadPoolExecutor-1_1: working on img num: 10000\n",
      "ThreadPoolExecutor-1_7: working on img num: 15000\n",
      "ThreadPoolExecutor-1_3: working on img num: 20000\n",
      "ThreadPoolExecutor-1_11: working on img num: 25000\n",
      "ThreadPoolExecutor-1_2: working on img num: 30000\n",
      "ThreadPoolExecutor-1_6: working on img num: 35000\n",
      "ThreadPoolExecutor-1_4: working on img num: 40000\n",
      "ThreadPoolExecutor-1_6: working on img num: 45000\n",
      "ThreadPoolExecutor-1_8: working on img num: 50000\n",
      "ThreadPoolExecutor-1_2: working on img num: 55000\n",
      "ThreadPoolExecutor-1_11: working on img num: 60000\n",
      "ThreadPoolExecutor-1_3: working on img num: 65000\n",
      "ThreadPoolExecutor-1_5: working on img num: 70000\n",
      "ThreadPoolExecutor-1_10: working on img num: 75000\n",
      "ThreadPoolExecutor-1_6: working on img num: 80000\n",
      "ThreadPoolExecutor-1_3: working on img num: 85000\n",
      "ThreadPoolExecutor-1_2: working on img num: 90000\n",
      "ThreadPoolExecutor-1_2: working on img num: 95000\n",
      "ThreadPoolExecutor-1_6: working on img num: 96856\n",
      "\n",
      "Loading Validation Images:\n",
      "ThreadPoolExecutor-1_7: working on img num: 0\n",
      "ThreadPoolExecutor-1_5: working on img num: 5000\n",
      "ThreadPoolExecutor-1_7: working on img num: 10000\n",
      "ThreadPoolExecutor-1_8: working on img num: 10761\n",
      "\n",
      "Loading Test Images:\n",
      "ThreadPoolExecutor-1_1: working on img num: 0\n",
      "ThreadPoolExecutor-1_2: working on img num: 5000\n",
      "ThreadPoolExecutor-1_6: working on img num: 10000\n",
      "ThreadPoolExecutor-1_9: working on img num: 15000\n",
      "ThreadPoolExecutor-1_9: working on img num: 20000\n",
      "ThreadPoolExecutor-1_10: working on img num: 25000\n",
      "ThreadPoolExecutor-1_10: working on img num: 30000\n",
      "ThreadPoolExecutor-1_6: working on img num: 35000\n",
      "ThreadPoolExecutor-1_5: working on img num: 40000\n",
      "ThreadPoolExecutor-1_9: working on img num: 45000\n",
      "ThreadPoolExecutor-1_1: working on img num: 46122\n"
     ]
    },
    {
     "data": {
      "text/plain": [
       "((96857, 124, 124, 3), (10762, 124, 124, 3), (46123, 124, 124, 3))"
      ]
     },
     "execution_count": 8,
     "metadata": {},
     "output_type": "execute_result"
    }
   ],
   "source": [
    "IMG_DIMS = (124, 124)\n",
    "\n",
    "def get_img_data_parallel(idx, img, total_imgs):\n",
    "    if idx % 5000 == 0 or idx == (total_imgs - 1):\n",
    "        print('{}: working on img num: {}'.format(threading.current_thread().name,\n",
    "                                                  idx))\n",
    "    img = cv2.imread(img)\n",
    "    img = cv2.resize(img, dsize=IMG_DIMS, \n",
    "                     interpolation=cv2.INTER_CUBIC)\n",
    "    img = np.array(img, dtype=np.float32)\n",
    "    return img\n",
    "\n",
    "ex = futures.ThreadPoolExecutor(max_workers=None)\n",
    "train_data_inp = [(idx, img, len(train_files)) for idx, img in enumerate(train_files)]\n",
    "val_data_inp = [(idx, img, len(val_files)) for idx, img in enumerate(val_files)]\n",
    "test_data_inp = [(idx, img, len(test_files)) for idx, img in enumerate(test_files)]\n",
    "\n",
    "print('Loading Train Images:')\n",
    "train_data_map = ex.map(get_img_data_parallel, \n",
    "                        [record[0] for record in train_data_inp],\n",
    "                        [record[1] for record in train_data_inp],\n",
    "                        [record[2] for record in train_data_inp])\n",
    "train_data = np.array(list(train_data_map))\n",
    "\n",
    "print('\\nLoading Validation Images:')\n",
    "val_data_map = ex.map(get_img_data_parallel, \n",
    "                        [record[0] for record in val_data_inp],\n",
    "                        [record[1] for record in val_data_inp],\n",
    "                        [record[2] for record in val_data_inp])\n",
    "val_data = np.array(list(val_data_map))\n",
    "\n",
    "print('\\nLoading Test Images:')\n",
    "test_data_map = ex.map(get_img_data_parallel, \n",
    "                        [record[0] for record in test_data_inp],\n",
    "                        [record[1] for record in test_data_inp],\n",
    "                        [record[2] for record in test_data_inp])\n",
    "test_data = np.array(list(test_data_map))\n",
    "\n",
    "train_data.shape, val_data.shape, test_data.shape  "
   ]
  },
  {
   "cell_type": "code",
   "execution_count": 9,
   "id": "ee948a67-4168-43ea-b75c-58a3f60e31d1",
   "metadata": {},
   "outputs": [
    {
     "data": {
      "image/png": "[encoded data removed]",
      "text/plain": [
       "<Figure size 576x576 with 16 Axes>"
      ]
     },
     "metadata": {},
     "output_type": "display_data"
    }
   ],
   "source": [
    "import matplotlib.pyplot as plt\n",
    "%matplotlib inline\n",
    "\n",
    "plt.figure(1 , figsize = (8 , 8))\n",
    "n = 0 \n",
    "for i in range(16):\n",
    "    n += 1 \n",
    "    r = np.random.randint(0 , train_data.shape[0] , 1)\n",
    "    plt.subplot(4 , 4 , n)\n",
    "    plt.subplots_adjust(hspace = 0.5 , wspace = 0.5)\n",
    "    plt.imshow(train_data[r[0]]/255.)\n",
    "    plt.title('{}'.format(train_labels[r[0]]))\n",
    "    plt.xticks([]) , plt.yticks([])"
   ]
  },
  {
   "cell_type": "code",
   "execution_count": 10,
   "id": "1977931b-e56c-4f8e-ad1c-7904bf1fb8a0",
   "metadata": {},
   "outputs": [
    {
     "name": "stdout",
     "output_type": "stream",
     "text": [
      "['normal' 'abnormal' 'abnormal' 'abnormal' 'normal' 'abnormal'] [1 0 0 0 1 0]\n"
     ]
    }
   ],
   "source": [
    "BATCH_SIZE = 64\n",
    "NUM_CLASSES = 2\n",
    "EPOCHS = 50\n",
    "INPUT_SHAPE = (124, 124, 3)\n",
    "\n",
    "train_imgs_scaled = train_data / 255.\n",
    "val_imgs_scaled = val_data / 255.\n",
    "\n",
    "# encode text category labels\n",
    "from sklearn.preprocessing import LabelEncoder\n",
    "\n",
    "le = LabelEncoder()\n",
    "le.fit(train_labels)\n",
    "train_labels_enc = le.transform(train_labels)\n",
    "val_labels_enc = le.transform(val_labels)\n",
    "\n",
    "print(train_labels[:6], train_labels_enc[:6])"
   ]
  },
  {
   "cell_type": "code",
   "execution_count": 11,
   "id": "7f4910c5-f857-4753-952e-18a72af67d39",
   "metadata": {},
   "outputs": [],
   "source": [
    "from tensorflow.keras.models import Sequential\n",
    "from tensorflow.keras.layers import Dense, Flatten, Convolution2D, BatchNormalization, MaxPooling2D\n",
    "from tensorflow.keras.optimizers import SGD, Adam"
   ]
  },
  {
   "cell_type": "code",
   "execution_count": 12,
   "id": "a23594e7-3b64-4ca4-a304-f51d5961fedc",
   "metadata": {},
   "outputs": [],
   "source": [
    "inp = tf.keras.layers.Input(shape=INPUT_SHAPE)\n",
    "\n",
    "conv1 = tf.keras.layers.Conv2D(32, kernel_size=(3, 3), \n",
    "                               activation='relu', padding='same')(inp)\n",
    "batch1 = tf.keras.layers.BatchNormalization()(conv1)\n",
    "\n",
    "pool1 = tf.keras.layers.MaxPooling2D(pool_size=(2, 2),strides=2)(batch1)\n",
    "conv2 = tf.keras.layers.Conv2D(64, kernel_size=(3, 3), \n",
    "                               activation='relu', padding='same')(pool1)\n",
    "batch2 = tf.keras.layers.BatchNormalization()(conv2)\n",
    "\n",
    "pool2 = tf.keras.layers.MaxPooling2D(pool_size=(2, 2),strides=2)(batch2)\n",
    "conv3 = tf.keras.layers.Conv2D(128, kernel_size=(2, 2), \n",
    "                               activation='relu', padding='same')(pool2)\n",
    "batch3 = tf.keras.layers.BatchNormalization()(conv3)\n",
    "\n",
    "pool3 = tf.keras.layers.MaxPooling2D(pool_size=(2, 2),strides=2)(batch3)\n",
    "\n",
    "flat = tf.keras.layers.Flatten()(pool3)\n",
    "\n",
    "hidden1 = tf.keras.layers.Dense(128, activation='relu')(flat)\n",
    "\n",
    "hidden2 = tf.keras.layers.Dense(256, activation='relu')(hidden1)\n",
    "\n",
    "out = tf.keras.layers.Dense(1, activation='sigmoid')(hidden2)"
   ]
  },
  {
   "cell_type": "code",
   "execution_count": 13,
   "id": "652cf454-9dbe-41de-b199-f19c7086a5d2",
   "metadata": {},
   "outputs": [
    {
     "name": "stdout",
     "output_type": "stream",
     "text": [
      "Model: \"model\"\n",
      "_________________________________________________________________\n",
      "Layer (type)                 Output Shape              Param #   \n",
      "=================================================================\n",
      "input_1 (InputLayer)         [(None, 124, 124, 3)]     0         \n",
      "_________________________________________________________________\n",
      "conv2d (Conv2D)              (None, 124, 124, 32)      896       \n",
      "_________________________________________________________________\n",
      "batch_normalization (BatchNo (None, 124, 124, 32)      128       \n",
      "_________________________________________________________________\n",
      "max_pooling2d (MaxPooling2D) (None, 62, 62, 32)        0         \n",
      "_________________________________________________________________\n",
      "conv2d_1 (Conv2D)            (None, 62, 62, 64)        18496     \n",
      "_________________________________________________________________\n",
      "batch_normalization_1 (Batch (None, 62, 62, 64)        256       \n",
      "_________________________________________________________________\n",
      "max_pooling2d_1 (MaxPooling2 (None, 31, 31, 64)        0         \n",
      "_________________________________________________________________\n",
      "conv2d_2 (Conv2D)            (None, 31, 31, 128)       32896     \n",
      "_________________________________________________________________\n",
      "batch_normalization_2 (Batch (None, 31, 31, 128)       512       \n",
      "_________________________________________________________________\n",
      "max_pooling2d_2 (MaxPooling2 (None, 15, 15, 128)       0         \n",
      "_________________________________________________________________\n",
      "flatten (Flatten)            (None, 28800)             0         \n",
      "_________________________________________________________________\n",
      "dense (Dense)                (None, 128)               3686528   \n",
      "_________________________________________________________________\n",
      "dense_1 (Dense)              (None, 256)               33024     \n",
      "_________________________________________________________________\n",
      "dense_2 (Dense)              (None, 1)                 257       \n",
      "=================================================================\n",
      "Total params: 3,772,993\n",
      "Trainable params: 3,772,545\n",
      "Non-trainable params: 448\n",
      "_________________________________________________________________\n"
     ]
    }
   ],
   "source": [
    "model = tf.keras.Model(inputs=inp, outputs=out)\n",
    "model.compile(optimizer='Adam',\n",
    "                loss='binary_crossentropy',\n",
    "                metrics=['accuracy'])\n",
    "model.summary()"
   ]
  },
  {
   "cell_type": "code",
   "execution_count": 14,
   "id": "8eca86fd-e769-4ad9-b880-bb9785060179",
   "metadata": {},
   "outputs": [
    {
     "name": "stdout",
     "output_type": "stream",
     "text": [
      "Epoch 1/50\n",
      "WARNING:tensorflow:AutoGraph could not transform <function Model.make_train_function.<locals>.train_function at 0x2b089a280> and will run it as-is.\n",
      "Please report this to the TensorFlow team. When filing the bug, set the verbosity to 10 (on Linux, `export AUTOGRAPH_VERBOSITY=10`) and attach the full output.\n",
      "Cause: unsupported operand type(s) for -: 'NoneType' and 'int'\n",
      "To silence this warning, decorate the function with @tf.autograph.experimental.do_not_convert\n",
      "WARNING: AutoGraph could not transform <function Model.make_train_function.<locals>.train_function at 0x2b089a280> and will run it as-is.\n",
      "Please report this to the TensorFlow team. When filing the bug, set the verbosity to 10 (on Linux, `export AUTOGRAPH_VERBOSITY=10`) and attach the full output.\n",
      "Cause: unsupported operand type(s) for -: 'NoneType' and 'int'\n",
      "To silence this warning, decorate the function with @tf.autograph.experimental.do_not_convert\n",
      "1514/1514 [==============================] - ETA: 0s - loss: 0.3235 - accuracy: 0.9188WARNING:tensorflow:AutoGraph could not transform <function Model.make_test_function.<locals>.test_function at 0x2a7170700> and will run it as-is.\n",
      "Please report this to the TensorFlow team. When filing the bug, set the verbosity to 10 (on Linux, `export AUTOGRAPH_VERBOSITY=10`) and attach the full output.\n",
      "Cause: unsupported operand type(s) for -: 'NoneType' and 'int'\n",
      "To silence this warning, decorate the function with @tf.autograph.experimental.do_not_convert\n",
      "WARNING: AutoGraph could not transform <function Model.make_test_function.<locals>.test_function at 0x2a7170700> and will run it as-is.\n",
      "Please report this to the TensorFlow team. When filing the bug, set the verbosity to 10 (on Linux, `export AUTOGRAPH_VERBOSITY=10`) and attach the full output.\n",
      "Cause: unsupported operand type(s) for -: 'NoneType' and 'int'\n",
      "To silence this warning, decorate the function with @tf.autograph.experimental.do_not_convert\n",
      "1514/1514 [==============================] - 450s 297ms/step - loss: 0.3234 - accuracy: 0.9189 - val_loss: 35.2258 - val_accuracy: 0.4953\n",
      "Epoch 2/50\n",
      "1514/1514 [==============================] - 447s 295ms/step - loss: 0.0478 - accuracy: 0.9839 - val_loss: 9.5646 - val_accuracy: 0.5191\n",
      "Epoch 3/50\n",
      "1514/1514 [==============================] - 452s 298ms/step - loss: 0.0297 - accuracy: 0.9893 - val_loss: 0.6248 - val_accuracy: 0.8532\n",
      "Epoch 4/50\n",
      "1514/1514 [==============================] - 450s 297ms/step - loss: 0.0192 - accuracy: 0.9931 - val_loss: 98.8422 - val_accuracy: 0.4953\n",
      "Epoch 5/50\n",
      "1514/1514 [==============================] - 460s 304ms/step - loss: 0.0152 - accuracy: 0.9949 - val_loss: 6.7482 - val_accuracy: 0.5407\n",
      "Epoch 6/50\n",
      "1514/1514 [==============================] - 474s 313ms/step - loss: 0.0098 - accuracy: 0.9970 - val_loss: 0.1265 - val_accuracy: 0.9678\n",
      "Epoch 7/50\n",
      "1514/1514 [==============================] - 479s 316ms/step - loss: 0.0099 - accuracy: 0.9967 - val_loss: 0.0639 - val_accuracy: 0.9788\n",
      "Epoch 8/50\n",
      "1514/1514 [==============================] - 488s 322ms/step - loss: 0.0065 - accuracy: 0.9979 - val_loss: 53.9002 - val_accuracy: 0.4953\n",
      "Epoch 9/50\n",
      "1514/1514 [==============================] - 487s 321ms/step - loss: 0.0064 - accuracy: 0.9978 - val_loss: 0.1064 - val_accuracy: 0.9691\n",
      "Epoch 10/50\n",
      "1514/1514 [==============================] - 483s 319ms/step - loss: 0.0042 - accuracy: 0.9987 - val_loss: 167.9235 - val_accuracy: 0.4953\n",
      "Epoch 11/50\n",
      "1514/1514 [==============================] - 476s 314ms/step - loss: 0.0058 - accuracy: 0.9982 - val_loss: 0.0464 - val_accuracy: 0.9862\n",
      "Epoch 12/50\n",
      "1514/1514 [==============================] - 490s 323ms/step - loss: 0.0053 - accuracy: 0.9985 - val_loss: 0.1504 - val_accuracy: 0.9588\n",
      "Epoch 13/50\n",
      "1514/1514 [==============================] - 446s 295ms/step - loss: 0.0043 - accuracy: 0.9986 - val_loss: 0.0795 - val_accuracy: 0.9726\n",
      "Epoch 14/50\n",
      "1514/1514 [==============================] - 458s 303ms/step - loss: 0.0037 - accuracy: 0.9989 - val_loss: 0.0799 - val_accuracy: 0.9744\n",
      "Epoch 15/50\n",
      "1514/1514 [==============================] - 483s 319ms/step - loss: 0.0028 - accuracy: 0.9992 - val_loss: 263.2531 - val_accuracy: 0.5047\n",
      "Epoch 16/50\n",
      "1514/1514 [==============================] - 503s 333ms/step - loss: 0.0031 - accuracy: 0.9990 - val_loss: 1.4593 - val_accuracy: 0.7843\n",
      "Epoch 17/50\n",
      "1514/1514 [==============================] - 468s 309ms/step - loss: 0.0031 - accuracy: 0.9991 - val_loss: 5.8232 - val_accuracy: 0.7366\n",
      "Epoch 18/50\n",
      "1514/1514 [==============================] - 469s 309ms/step - loss: 0.0037 - accuracy: 0.9989 - val_loss: 0.0706 - val_accuracy: 0.9805\n",
      "Epoch 19/50\n",
      "1514/1514 [==============================] - 490s 324ms/step - loss: 0.0017 - accuracy: 0.9995 - val_loss: 9.1007 - val_accuracy: 0.5408\n",
      "Epoch 20/50\n",
      "1514/1514 [==============================] - 487s 321ms/step - loss: 0.0029 - accuracy: 0.9992 - val_loss: 0.0755 - val_accuracy: 0.9849\n",
      "Epoch 21/50\n",
      "1514/1514 [==============================] - 493s 326ms/step - loss: 0.0017 - accuracy: 0.9996 - val_loss: 96.9983 - val_accuracy: 0.5312\n",
      "Epoch 22/50\n",
      "1514/1514 [==============================] - 492s 325ms/step - loss: 0.0036 - accuracy: 0.9993 - val_loss: 0.0783 - val_accuracy: 0.9823\n",
      "Epoch 23/50\n",
      "1514/1514 [==============================] - 484s 320ms/step - loss: 0.0021 - accuracy: 0.9994 - val_loss: 0.0899 - val_accuracy: 0.9803\n",
      "Epoch 24/50\n",
      "1514/1514 [==============================] - 483s 319ms/step - loss: 0.0045 - accuracy: 0.9990 - val_loss: 0.0755 - val_accuracy: 0.9902\n",
      "Epoch 25/50\n",
      "1514/1514 [==============================] - 499s 330ms/step - loss: 0.0024 - accuracy: 0.9994 - val_loss: 0.1294 - val_accuracy: 0.9790\n",
      "Epoch 26/50\n",
      "1514/1514 [==============================] - 579s 382ms/step - loss: 0.0020 - accuracy: 0.9994 - val_loss: 1420.8673 - val_accuracy: 0.4953\n",
      "Epoch 27/50\n",
      "1514/1514 [==============================] - 570s 376ms/step - loss: 0.0032 - accuracy: 0.9992 - val_loss: 0.0699 - val_accuracy: 0.9907\n",
      "Epoch 28/50\n",
      "1514/1514 [==============================] - 504s 333ms/step - loss: 0.0018 - accuracy: 0.9996 - val_loss: 1772.4999 - val_accuracy: 0.4953\n",
      "Epoch 29/50\n",
      "1514/1514 [==============================] - 510s 337ms/step - loss: 0.0054 - accuracy: 0.9989 - val_loss: 100.0591 - val_accuracy: 0.5010\n",
      "Epoch 30/50\n",
      "1514/1514 [==============================] - 534s 353ms/step - loss: 0.0014 - accuracy: 0.9995 - val_loss: 7638.9111 - val_accuracy: 0.4953\n",
      "Epoch 31/50\n",
      "1514/1514 [==============================] - 526s 348ms/step - loss: 0.0014 - accuracy: 0.9996 - val_loss: 76.5077 - val_accuracy: 0.5060\n",
      "Epoch 32/50\n",
      "1514/1514 [==============================] - 523s 345ms/step - loss: 0.0026 - accuracy: 0.9995 - val_loss: 5714.1411 - val_accuracy: 0.4953\n",
      "Epoch 33/50\n",
      "1514/1514 [==============================] - 503s 332ms/step - loss: 0.0019 - accuracy: 0.9996 - val_loss: 257.1415 - val_accuracy: 0.4953\n",
      "Epoch 34/50\n",
      "1514/1514 [==============================] - 484s 320ms/step - loss: 0.0020 - accuracy: 0.9995 - val_loss: 0.1204 - val_accuracy: 0.9839\n",
      "Epoch 35/50\n",
      "1514/1514 [==============================] - 481s 318ms/step - loss: 0.0022 - accuracy: 0.9994 - val_loss: 3.2913 - val_accuracy: 0.9367\n",
      "Epoch 36/50\n",
      "1514/1514 [==============================] - 482s 318ms/step - loss: 8.1820e-04 - accuracy: 0.9998 - val_loss: 0.0640 - val_accuracy: 0.9917\n",
      "Epoch 37/50\n",
      "1514/1514 [==============================] - 483s 319ms/step - loss: 0.0020 - accuracy: 0.9997 - val_loss: 1.5044 - val_accuracy: 0.6208\n",
      "Epoch 38/50\n",
      "1514/1514 [==============================] - 483s 319ms/step - loss: 0.0026 - accuracy: 0.9994 - val_loss: 766.3453 - val_accuracy: 0.4953\n",
      "Epoch 39/50\n",
      "1514/1514 [==============================] - 489s 323ms/step - loss: 0.0017 - accuracy: 0.9995 - val_loss: 1.3933 - val_accuracy: 0.9720\n",
      "Epoch 40/50\n",
      "1514/1514 [==============================] - 495s 327ms/step - loss: 8.7259e-04 - accuracy: 0.9998 - val_loss: 0.0583 - val_accuracy: 0.9917\n",
      "Epoch 41/50\n",
      "1514/1514 [==============================] - 501s 331ms/step - loss: 0.0011 - accuracy: 0.9997 - val_loss: 0.1881 - val_accuracy: 0.9291\n",
      "Epoch 42/50\n",
      "1514/1514 [==============================] - 491s 324ms/step - loss: 0.0017 - accuracy: 0.9997 - val_loss: 0.1803 - val_accuracy: 0.9908\n",
      "Epoch 43/50\n",
      "1514/1514 [==============================] - 487s 322ms/step - loss: 7.0251e-04 - accuracy: 0.9998 - val_loss: 1696.0480 - val_accuracy: 0.4953\n",
      "Epoch 44/50\n",
      "1514/1514 [==============================] - 507s 335ms/step - loss: 0.0031 - accuracy: 0.9993 - val_loss: 0.0731 - val_accuracy: 0.9914\n",
      "Epoch 45/50\n",
      "1514/1514 [==============================] - 504s 333ms/step - loss: 7.3011e-04 - accuracy: 0.9998 - val_loss: 0.1754 - val_accuracy: 0.9832\n",
      "Epoch 46/50\n",
      "1514/1514 [==============================] - 485s 320ms/step - loss: 0.0035 - accuracy: 0.9992 - val_loss: 0.0741 - val_accuracy: 0.9892\n",
      "Epoch 47/50\n",
      "1514/1514 [==============================] - 483s 319ms/step - loss: 2.2953e-04 - accuracy: 0.9999 - val_loss: 0.2108 - val_accuracy: 0.9734\n",
      "Epoch 48/50\n",
      "1514/1514 [==============================] - 512s 338ms/step - loss: 0.0042 - accuracy: 0.9991 - val_loss: 0.1599 - val_accuracy: 0.9915\n",
      "Epoch 49/50\n",
      "1514/1514 [==============================] - 574s 379ms/step - loss: 0.0016 - accuracy: 0.9996 - val_loss: 0.7937 - val_accuracy: 0.9794\n",
      "Epoch 50/50\n",
      "1514/1514 [==============================] - 511s 337ms/step - loss: 0.0013 - accuracy: 0.9996 - val_loss: 0.0963 - val_accuracy: 0.9928\n"
     ]
    }
   ],
   "source": [
    "history = model.fit(x=train_imgs_scaled, y=train_labels_enc, \n",
    "                    batch_size=BATCH_SIZE,\n",
    "                    epochs=EPOCHS, \n",
    "                    validation_data=(val_imgs_scaled, val_labels_enc), \n",
    "                    #callbacks=callbacks,\n",
    "                    verbose=1)"
   ]
  },
  {
   "cell_type": "code",
   "execution_count": 15,
   "id": "834263ad-9d91-44be-bc4e-deb3de7d2693",
   "metadata": {},
   "outputs": [
    {
     "data": {
      "image/png": "[encoded data removed]",
      "text/plain": [
       "<Figure size 864x288 with 2 Axes>"
      ]
     },
     "metadata": {
      "needs_background": "light"
     },
     "output_type": "display_data"
    }
   ],
   "source": [
    " f, (ax1, ax2) = plt.subplots(1, 2, figsize=(12, 4))\n",
    "t = f.suptitle('Basic CNN Performance', fontsize=12)\n",
    "f.subplots_adjust(top=0.85, wspace=0.3)\n",
    "\n",
    "max_epoch = len(history.history['accuracy'])+1\n",
    "epoch_list = list(range(1,max_epoch))\n",
    "ax1.plot(epoch_list, history.history['accuracy'], label='Train Accuracy')\n",
    "ax1.plot(epoch_list, history.history['val_accuracy'], label='Validation Accuracy')\n",
    "ax1.set_xticks(np.arange(1, max_epoch, 5))\n",
    "ax1.set_ylabel('Accuracy Value')\n",
    "ax1.set_xlabel('Epoch')\n",
    "ax1.set_title('Accuracy')\n",
    "l1 = ax1.legend(loc=\"best\")\n",
    "\n",
    "ax2.plot(epoch_list, history.history['loss'], label='Train Loss')\n",
    "ax2.plot(epoch_list, history.history['val_loss'], label='Validation Loss')\n",
    "ax2.set_xticks(np.arange(1, max_epoch, 5))\n",
    "ax2.set_ylabel('Loss Value')\n",
    "ax2.set_xlabel('Epoch')\n",
    "ax2.set_title('Loss')\n",
    "l2 = ax2.legend(loc=\"best\")"
   ]
  },
  {
   "cell_type": "code",
   "execution_count": null,
   "id": "cc54feff-728f-483a-a1fa-b2c8e64db9b4",
   "metadata": {},
   "outputs": [],
   "source": [
    "model.save('CNN_time_v1.h5')"
   ]
  }
 ],
 "metadata": {
  "kernelspec": {
   "display_name": "Python 3",
   "language": "python",
   "name": "python3"
  },
  "language_info": {
   "codemirror_mode": {
    "name": "ipython",
    "version": 3
   },
   "file_extension": ".py",
   "mimetype": "text/x-python",
   "name": "python",
   "nbconvert_exporter": "python",
   "pygments_lexer": "ipython3",
   "version": "3.8.5"
  }
 },
 "nbformat": 4,
 "nbformat_minor": 5
}
