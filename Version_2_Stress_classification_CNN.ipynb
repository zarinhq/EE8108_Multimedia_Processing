{
 "cells": [
  {
   "cell_type": "markdown",
   "id": "fef87dc7-2001-4254-8210-acc8d3250985",
   "metadata": {},
   "source": [
    "## **Install Dependencies**"
   ]
  },
  {
   "cell_type": "code",
   "execution_count": null,
   "id": "922d75da-8605-47f0-b048-6e0b838c3bf8",
   "metadata": {},
   "outputs": [],
   "source": [
    "pip install wfdb wget tqdm biosppy imbalanced-learn seaborn"
   ]
  },
  {
   "cell_type": "code",
   "execution_count": 2,
   "id": "a709888f-c423-4730-943a-e4ba9db834d9",
   "metadata": {},
   "outputs": [
    {
     "name": "stdout",
     "output_type": "stream",
     "text": [
      "Found existing installation: matplotlib 3.1.3\n",
      "Uninstalling matplotlib-3.1.3:\n",
      "  Successfully uninstalled matplotlib-3.1.3\n",
      "Collecting matplotlib==3.1.3\n",
      "  Using cached matplotlib-3.1.3-cp39-cp39-macosx_11_0_arm64.whl\n",
      "Requirement already satisfied: kiwisolver>=1.0.1 in /Users/anan/miniforge3/lib/python3.9/site-packages (from matplotlib==3.1.3) (1.3.1)\n",
      "Requirement already satisfied: python-dateutil>=2.1 in /Users/anan/miniforge3/lib/python3.9/site-packages (from matplotlib==3.1.3) (2.8.2)\n",
      "Requirement already satisfied: numpy>=1.11 in /Users/anan/miniforge3/lib/python3.9/site-packages (from matplotlib==3.1.3) (1.21.1)\n",
      "Requirement already satisfied: cycler>=0.10 in /Users/anan/miniforge3/lib/python3.9/site-packages (from matplotlib==3.1.3) (0.10.0)\n",
      "Requirement already satisfied: pyparsing!=2.0.4,!=2.1.2,!=2.1.6,>=2.0.1 in /Users/anan/miniforge3/lib/python3.9/site-packages (from matplotlib==3.1.3) (2.4.7)\n",
      "Requirement already satisfied: six in /Users/anan/miniforge3/lib/python3.9/site-packages (from cycler>=0.10->matplotlib==3.1.3) (1.15.0)\n",
      "Installing collected packages: matplotlib\n",
      "Successfully installed matplotlib-3.1.3\n"
     ]
    }
   ],
   "source": [
    "!pip uninstall matplotlib --yes\n",
    "!pip install matplotlib==3.1.3 "
   ]
  },
  {
   "cell_type": "markdown",
   "id": "52ab55c5-0198-4feb-ba7e-300b3bc68fe0",
   "metadata": {},
   "source": [
    "## **Importing Libraries**"
   ]
  },
  {
   "cell_type": "code",
   "execution_count": 3,
   "id": "626c5ae3-fa56-4c59-afe0-6e987c156a0a",
   "metadata": {},
   "outputs": [],
   "source": [
    "import tensorflow as tf\n",
    "import matplotlib.pyplot as plt\n",
    "import pandas as pd\n",
    "import numpy as np\n",
    "from glob import glob\n",
    "import wget\n",
    "import zipfile\n",
    "import wfdb as wf\n",
    "import os\n",
    "from scipy import signal\n",
    "from biosppy.signals import ecg\n",
    "import cv2\n",
    "from sklearn.model_selection import train_test_split\n",
    "from collections import Counter\n",
    "from sklearn.preprocessing import LabelEncoder\n",
    "from imblearn.over_sampling import SMOTE\n",
    "from sklearn import metrics"
   ]
  },
  {
   "cell_type": "markdown",
   "id": "b76174cb-5f34-4a7b-b171-659e2830038d",
   "metadata": {},
   "source": [
    "## **Importing Image Data**"
   ]
  },
  {
   "cell_type": "code",
   "execution_count": 4,
   "id": "d1f49dc9-0603-44be-b280-d3da90466526",
   "metadata": {},
   "outputs": [
    {
     "data": {
      "text/plain": [
       "(76871, 76871)"
      ]
     },
     "execution_count": 4,
     "metadata": {},
     "output_type": "execute_result"
    }
   ],
   "source": [
    "base_dir = os.path.join('./data_ecg/Spectrogram/')\n",
    "Abnormal_dir = os.path.join(base_dir,'Abnormal')\n",
    "Normal_dir = os.path.join(base_dir,'Normal')\n",
    "\n",
    "Abnormal_files = glob(Abnormal_dir+'/*.png')\n",
    "Normal_files = glob(Normal_dir+'/*.png')\n",
    "len(Abnormal_files), len(Normal_files)"
   ]
  },
  {
   "cell_type": "code",
   "execution_count": 5,
   "id": "30090e9a-84a1-4d5c-a8d8-75a89c497f93",
   "metadata": {},
   "outputs": [
    {
     "data": {
      "text/html": [
       "<div>\n",
       "<style scoped>\n",
       "    .dataframe tbody tr th:only-of-type {\n",
       "        vertical-align: middle;\n",
       "    }\n",
       "\n",
       "    .dataframe tbody tr th {\n",
       "        vertical-align: top;\n",
       "    }\n",
       "\n",
       "    .dataframe thead th {\n",
       "        text-align: right;\n",
       "    }\n",
       "</style>\n",
       "<table border=\"1\" class=\"dataframe\">\n",
       "  <thead>\n",
       "    <tr style=\"text-align: right;\">\n",
       "      <th></th>\n",
       "      <th>filename</th>\n",
       "      <th>label</th>\n",
       "    </tr>\n",
       "  </thead>\n",
       "  <tbody>\n",
       "    <tr>\n",
       "      <th>0</th>\n",
       "      <td>./data_ecg/Spectrogram/Normal/79717.png</td>\n",
       "      <td>normal</td>\n",
       "    </tr>\n",
       "    <tr>\n",
       "      <th>1</th>\n",
       "      <td>./data_ecg/Spectrogram/Abnormal/118632.png</td>\n",
       "      <td>abnormal</td>\n",
       "    </tr>\n",
       "    <tr>\n",
       "      <th>2</th>\n",
       "      <td>./data_ecg/Spectrogram/Normal/6741.png</td>\n",
       "      <td>normal</td>\n",
       "    </tr>\n",
       "    <tr>\n",
       "      <th>3</th>\n",
       "      <td>./data_ecg/Spectrogram/Abnormal/138937.png</td>\n",
       "      <td>abnormal</td>\n",
       "    </tr>\n",
       "    <tr>\n",
       "      <th>4</th>\n",
       "      <td>./data_ecg/Spectrogram/Abnormal/60980.png</td>\n",
       "      <td>abnormal</td>\n",
       "    </tr>\n",
       "  </tbody>\n",
       "</table>\n",
       "</div>"
      ],
      "text/plain": [
       "                                     filename     label\n",
       "0     ./data_ecg/Spectrogram/Normal/79717.png    normal\n",
       "1  ./data_ecg/Spectrogram/Abnormal/118632.png  abnormal\n",
       "2      ./data_ecg/Spectrogram/Normal/6741.png    normal\n",
       "3  ./data_ecg/Spectrogram/Abnormal/138937.png  abnormal\n",
       "4   ./data_ecg/Spectrogram/Abnormal/60980.png  abnormal"
      ]
     },
     "execution_count": 5,
     "metadata": {},
     "output_type": "execute_result"
    }
   ],
   "source": [
    "np.random.seed(42)\n",
    "\n",
    "files_df = pd.DataFrame({\n",
    "    'filename': Abnormal_files + Normal_files,\n",
    "    'label': ['abnormal'] * len(Abnormal_files) + ['normal'] * len(Normal_files)\n",
    "}).sample(frac=1, random_state=42).reset_index(drop=True)\n",
    "\n",
    "files_df.head()"
   ]
  },
  {
   "cell_type": "markdown",
   "id": "96e8e6ee-0dd1-4f86-aeee-5a20680ff6a1",
   "metadata": {},
   "source": [
    "## **Image data split**"
   ]
  },
  {
   "cell_type": "code",
   "execution_count": 6,
   "id": "9985d3ce-e874-41f3-8707-8f00ba2e624e",
   "metadata": {},
   "outputs": [
    {
     "name": "stdout",
     "output_type": "stream",
     "text": [
      "(96857,) (10762,) (46123,)\n",
      "Train: Counter({'abnormal': 48586, 'normal': 48271}) \n",
      "Val: Counter({'normal': 5432, 'abnormal': 5330}) \n",
      "Test: Counter({'normal': 23168, 'abnormal': 22955})\n"
     ]
    }
   ],
   "source": [
    "train_files, test_files, train_labels, test_labels = train_test_split(files_df['filename'].values,\n",
    "                                                                      files_df['label'].values, \n",
    "                                                                      test_size=0.3, random_state=42)\n",
    "train_files, val_files, train_labels, val_labels = train_test_split(train_files,\n",
    "                                                                    train_labels, \n",
    "                                                                    test_size=0.1, random_state=42)\n",
    "\n",
    "print(train_files.shape, val_files.shape, test_files.shape)\n",
    "print('Train:', Counter(train_labels), '\\nVal:', Counter(val_labels), '\\nTest:', Counter(test_labels))\n",
    "\n"
   ]
  },
  {
   "cell_type": "markdown",
   "id": "1e003e42-7d8b-4e57-b6b5-15c9767c87cf",
   "metadata": {},
   "source": [
    "## **Image reshaping**"
   ]
  },
  {
   "cell_type": "code",
   "execution_count": 7,
   "id": "252cdd5c-c4b2-435f-be7c-7c17c57cf973",
   "metadata": {},
   "outputs": [
    {
     "name": "stdout",
     "output_type": "stream",
     "text": [
      "Starting Img shape computation:\n",
      "ThreadPoolExecutor-0_0: working on img num: 0\n",
      "ThreadPoolExecutor-0_11: working on img num: 5000\n",
      "ThreadPoolExecutor-0_6: working on img num: 10000\n",
      "ThreadPoolExecutor-0_0: working on img num: 15000\n",
      "ThreadPoolExecutor-0_7: working on img num: 20000\n",
      "ThreadPoolExecutor-0_2: working on img num: 25000\n",
      "ThreadPoolExecutor-0_8: working on img num: 30000\n",
      "ThreadPoolExecutor-0_3: working on img num: 35000\n",
      "ThreadPoolExecutor-0_7: working on img num: 40000\n",
      "ThreadPoolExecutor-0_11: working on img num: 45000\n",
      "ThreadPoolExecutor-0_6: working on img num: 50000\n",
      "ThreadPoolExecutor-0_3: working on img num: 55000\n",
      "ThreadPoolExecutor-0_8: working on img num: 60000\n",
      "ThreadPoolExecutor-0_10: working on img num: 65000\n",
      "ThreadPoolExecutor-0_3: working on img num: 70000\n",
      "ThreadPoolExecutor-0_0: working on img num: 75000\n",
      "ThreadPoolExecutor-0_0: working on img num: 80000\n",
      "ThreadPoolExecutor-0_2: working on img num: 85000\n",
      "ThreadPoolExecutor-0_9: working on img num: 90000\n",
      "ThreadPoolExecutor-0_9: working on img num: 95000\n",
      "ThreadPoolExecutor-0_10: working on img num: 96856\n",
      "Min Dimensions: [288 432   3]\n",
      "Avg Dimensions: [288. 432.   3.]\n",
      "Median Dimensions: [288. 432.   3.]\n",
      "Max Dimensions: [288 432   3]\n"
     ]
    }
   ],
   "source": [
    "import cv2\n",
    "from concurrent import futures\n",
    "import threading\n",
    "\n",
    "def get_img_shape_parallel(idx, img, total_imgs):\n",
    "    if idx % 5000 == 0 or idx == (total_imgs - 1):\n",
    "        print('{}: working on img num: {}'.format(threading.current_thread().name,\n",
    "                                                  idx))\n",
    "    return cv2.imread(img).shape\n",
    "  \n",
    "ex = futures.ThreadPoolExecutor(max_workers=None)\n",
    "data_inp = [(idx, img, len(train_files)) for idx, img in enumerate(train_files)]\n",
    "print('Starting Img shape computation:')\n",
    "train_img_dims_map = ex.map(get_img_shape_parallel, \n",
    "                            [record[0] for record in data_inp],\n",
    "                            [record[1] for record in data_inp],\n",
    "                            [record[2] for record in data_inp])\n",
    "train_img_dims = list(train_img_dims_map)\n",
    "print('Min Dimensions:', np.min(train_img_dims, axis=0)) \n",
    "print('Avg Dimensions:', np.mean(train_img_dims, axis=0))\n",
    "print('Median Dimensions:', np.median(train_img_dims, axis=0))\n",
    "print('Max Dimensions:', np.max(train_img_dims, axis=0))"
   ]
  },
  {
   "cell_type": "code",
   "execution_count": 8,
   "id": "c0436793-dd93-47ef-803d-84815a1c87aa",
   "metadata": {},
   "outputs": [
    {
     "name": "stdout",
     "output_type": "stream",
     "text": [
      "Loading Train Images:\n",
      "ThreadPoolExecutor-1_0: working on img num: 0\n",
      "ThreadPoolExecutor-1_5: working on img num: 5000\n",
      "ThreadPoolExecutor-1_6: working on img num: 10000\n",
      "ThreadPoolExecutor-1_0: working on img num: 15000\n",
      "ThreadPoolExecutor-1_9: working on img num: 20000\n",
      "ThreadPoolExecutor-1_1: working on img num: 25000\n",
      "ThreadPoolExecutor-1_6: working on img num: 30000\n",
      "ThreadPoolExecutor-1_2: working on img num: 35000\n",
      "ThreadPoolExecutor-1_1: working on img num: 40000\n",
      "ThreadPoolExecutor-1_8: working on img num: 45000\n",
      "ThreadPoolExecutor-1_7: working on img num: 50000\n",
      "ThreadPoolExecutor-1_10: working on img num: 55000\n",
      "ThreadPoolExecutor-1_8: working on img num: 60000\n",
      "ThreadPoolExecutor-1_1: working on img num: 65000\n",
      "ThreadPoolExecutor-1_9: working on img num: 70000\n",
      "ThreadPoolExecutor-1_8: working on img num: 75000\n",
      "ThreadPoolExecutor-1_8: working on img num: 80000\n",
      "ThreadPoolExecutor-1_2: working on img num: 85000\n",
      "ThreadPoolExecutor-1_2: working on img num: 90000\n",
      "ThreadPoolExecutor-1_11: working on img num: 95000\n",
      "ThreadPoolExecutor-1_11: working on img num: 96856\n",
      "\n",
      "Loading Validation Images:\n",
      "ThreadPoolExecutor-1_5: working on img num: 0\n",
      "ThreadPoolExecutor-1_7: working on img num: 5000\n",
      "ThreadPoolExecutor-1_3: working on img num: 10000\n",
      "ThreadPoolExecutor-1_6: working on img num: 10761\n",
      "\n",
      "Loading Test Images:\n",
      "ThreadPoolExecutor-1_3: working on img num: 0\n",
      "ThreadPoolExecutor-1_1: working on img num: 5000\n",
      "ThreadPoolExecutor-1_11: working on img num: 10000\n",
      "ThreadPoolExecutor-1_3: working on img num: 15000\n",
      "ThreadPoolExecutor-1_5: working on img num: 20000\n",
      "ThreadPoolExecutor-1_3: working on img num: 25000\n",
      "ThreadPoolExecutor-1_1: working on img num: 30000\n",
      "ThreadPoolExecutor-1_1: working on img num: 35000\n",
      "ThreadPoolExecutor-1_9: working on img num: 40000\n",
      "ThreadPoolExecutor-1_11: working on img num: 45000\n",
      "ThreadPoolExecutor-1_7: working on img num: 46122\n"
     ]
    },
    {
     "data": {
      "text/plain": [
       "((96857, 124, 124, 3), (10762, 124, 124, 3), (46123, 124, 124, 3))"
      ]
     },
     "execution_count": 8,
     "metadata": {},
     "output_type": "execute_result"
    }
   ],
   "source": [
    "IMG_DIMS = (124, 124)\n",
    "\n",
    "def get_img_data_parallel(idx, img, total_imgs):\n",
    "    if idx % 5000 == 0 or idx == (total_imgs - 1):\n",
    "        print('{}: working on img num: {}'.format(threading.current_thread().name,\n",
    "                                                  idx))\n",
    "    img = cv2.imread(img)\n",
    "    img = cv2.resize(img, dsize=IMG_DIMS, \n",
    "                     interpolation=cv2.INTER_CUBIC)\n",
    "    img = np.array(img, dtype=np.float32)\n",
    "    return img\n",
    "\n",
    "ex = futures.ThreadPoolExecutor(max_workers=None)\n",
    "train_data_inp = [(idx, img, len(train_files)) for idx, img in enumerate(train_files)]\n",
    "val_data_inp = [(idx, img, len(val_files)) for idx, img in enumerate(val_files)]\n",
    "test_data_inp = [(idx, img, len(test_files)) for idx, img in enumerate(test_files)]\n",
    "\n",
    "print('Loading Train Images:')\n",
    "train_data_map = ex.map(get_img_data_parallel, \n",
    "                        [record[0] for record in train_data_inp],\n",
    "                        [record[1] for record in train_data_inp],\n",
    "                        [record[2] for record in train_data_inp])\n",
    "train_data = np.array(list(train_data_map))\n",
    "\n",
    "print('\\nLoading Validation Images:')\n",
    "val_data_map = ex.map(get_img_data_parallel, \n",
    "                        [record[0] for record in val_data_inp],\n",
    "                        [record[1] for record in val_data_inp],\n",
    "                        [record[2] for record in val_data_inp])\n",
    "val_data = np.array(list(val_data_map))\n",
    "\n",
    "print('\\nLoading Test Images:')\n",
    "test_data_map = ex.map(get_img_data_parallel, \n",
    "                        [record[0] for record in test_data_inp],\n",
    "                        [record[1] for record in test_data_inp],\n",
    "                        [record[2] for record in test_data_inp])\n",
    "test_data = np.array(list(test_data_map))\n",
    "\n",
    "train_data.shape, val_data.shape, test_data.shape  "
   ]
  },
  {
   "cell_type": "code",
   "execution_count": 9,
   "id": "2e1b53aa-e491-4663-83ab-c8d63e9bce8d",
   "metadata": {},
   "outputs": [
    {
     "data": {
      "image/png": "[encoded data removed]",
      "text/plain": [
       "<Figure size 576x576 with 16 Axes>"
      ]
     },
     "metadata": {},
     "output_type": "display_data"
    }
   ],
   "source": [
    "import matplotlib.pyplot as plt\n",
    "%matplotlib inline\n",
    "\n",
    "plt.figure(1 , figsize = (8 , 8))\n",
    "n = 0 \n",
    "for i in range(16):\n",
    "    n += 1 \n",
    "    r = np.random.randint(0 , train_data.shape[0] , 1)\n",
    "    plt.subplot(4 , 4 , n)\n",
    "    plt.subplots_adjust(hspace = 0.5 , wspace = 0.5)\n",
    "    plt.imshow(train_data[r[0]]/255.)\n",
    "    plt.title('{}'.format(train_labels[r[0]]))\n",
    "    plt.xticks([]) , plt.yticks([])"
   ]
  },
  {
   "cell_type": "code",
   "execution_count": 10,
   "id": "2752c316-51db-4293-b330-1fa800bc4bb6",
   "metadata": {},
   "outputs": [
    {
     "name": "stdout",
     "output_type": "stream",
     "text": [
      "['normal' 'abnormal' 'abnormal' 'abnormal' 'normal' 'abnormal'] [1 0 0 0 1 0]\n"
     ]
    }
   ],
   "source": [
    "BATCH_SIZE = 64\n",
    "NUM_CLASSES = 2\n",
    "EPOCHS = 50\n",
    "INPUT_SHAPE = (124, 124, 3)\n",
    "\n",
    "train_imgs_scaled = train_data / 255.\n",
    "val_imgs_scaled = val_data / 255.\n",
    "\n",
    "# encode text category labels\n",
    "from sklearn.preprocessing import LabelEncoder\n",
    "\n",
    "le = LabelEncoder()\n",
    "le.fit(train_labels)\n",
    "train_labels_enc = le.transform(train_labels)\n",
    "val_labels_enc = le.transform(val_labels)\n",
    "\n",
    "print(train_labels[:6], train_labels_enc[:6])"
   ]
  },
  {
   "cell_type": "markdown",
   "id": "ea7e2acd-6de0-4120-a3c1-b8189cf6bd0f",
   "metadata": {},
   "source": [
    "## **CNN Model Architecture**"
   ]
  },
  {
   "cell_type": "code",
   "execution_count": 11,
   "id": "0df657d3-d6e5-4e60-acc4-2224e2ada46d",
   "metadata": {},
   "outputs": [],
   "source": [
    "from tensorflow.keras.models import Sequential\n",
    "from tensorflow.keras.layers import Dense, Flatten, Convolution2D, BatchNormalization, MaxPooling2D\n",
    "from tensorflow.keras.optimizers import SGD, Adam"
   ]
  },
  {
   "cell_type": "code",
   "execution_count": 12,
   "id": "3ad27edb-4462-4fc3-a6a7-761883261729",
   "metadata": {},
   "outputs": [],
   "source": [
    "inp = tf.keras.layers.Input(shape=INPUT_SHAPE)\n",
    "\n",
    "conv1 = tf.keras.layers.Conv2D(32, kernel_size=(3, 3), \n",
    "                               activation='relu', padding='same')(inp)\n",
    "batch1 = tf.keras.layers.BatchNormalization()(conv1)\n",
    "\n",
    "pool1 = tf.keras.layers.MaxPooling2D(pool_size=(2, 2),strides=2)(batch1)\n",
    "conv2 = tf.keras.layers.Conv2D(64, kernel_size=(3, 3), \n",
    "                               activation='relu', padding='same')(pool1)\n",
    "batch2 = tf.keras.layers.BatchNormalization()(conv2)\n",
    "\n",
    "pool2 = tf.keras.layers.MaxPooling2D(pool_size=(2, 2),strides=2)(batch2)\n",
    "conv3 = tf.keras.layers.Conv2D(128, kernel_size=(2, 2), \n",
    "                               activation='relu', padding='same')(pool2)\n",
    "batch3 = tf.keras.layers.BatchNormalization()(conv3)\n",
    "\n",
    "pool3 = tf.keras.layers.MaxPooling2D(pool_size=(2, 2),strides=2)(batch3)\n",
    "\n",
    "flat = tf.keras.layers.Flatten()(pool3)\n",
    "\n",
    "hidden1 = tf.keras.layers.Dense(128, activation='relu')(flat)\n",
    "\n",
    "hidden2 = tf.keras.layers.Dense(256, activation='relu')(hidden1)\n",
    "\n",
    "out = tf.keras.layers.Dense(1, activation='sigmoid')(hidden2)"
   ]
  },
  {
   "cell_type": "code",
   "execution_count": 13,
   "id": "c880a39e-aa94-4d91-92a4-4968ecf4bef7",
   "metadata": {},
   "outputs": [
    {
     "name": "stdout",
     "output_type": "stream",
     "text": [
      "Model: \"model\"\n",
      "_________________________________________________________________\n",
      "Layer (type)                 Output Shape              Param #   \n",
      "=================================================================\n",
      "input_1 (InputLayer)         [(None, 124, 124, 3)]     0         \n",
      "_________________________________________________________________\n",
      "conv2d (Conv2D)              (None, 124, 124, 32)      896       \n",
      "_________________________________________________________________\n",
      "batch_normalization (BatchNo (None, 124, 124, 32)      128       \n",
      "_________________________________________________________________\n",
      "max_pooling2d (MaxPooling2D) (None, 62, 62, 32)        0         \n",
      "_________________________________________________________________\n",
      "conv2d_1 (Conv2D)            (None, 62, 62, 64)        18496     \n",
      "_________________________________________________________________\n",
      "batch_normalization_1 (Batch (None, 62, 62, 64)        256       \n",
      "_________________________________________________________________\n",
      "max_pooling2d_1 (MaxPooling2 (None, 31, 31, 64)        0         \n",
      "_________________________________________________________________\n",
      "conv2d_2 (Conv2D)            (None, 31, 31, 128)       32896     \n",
      "_________________________________________________________________\n",
      "batch_normalization_2 (Batch (None, 31, 31, 128)       512       \n",
      "_________________________________________________________________\n",
      "max_pooling2d_2 (MaxPooling2 (None, 15, 15, 128)       0         \n",
      "_________________________________________________________________\n",
      "flatten (Flatten)            (None, 28800)             0         \n",
      "_________________________________________________________________\n",
      "dense (Dense)                (None, 128)               3686528   \n",
      "_________________________________________________________________\n",
      "dense_1 (Dense)              (None, 256)               33024     \n",
      "_________________________________________________________________\n",
      "dense_2 (Dense)              (None, 1)                 257       \n",
      "=================================================================\n",
      "Total params: 3,772,993\n",
      "Trainable params: 3,772,545\n",
      "Non-trainable params: 448\n",
      "_________________________________________________________________\n"
     ]
    }
   ],
   "source": [
    "model = tf.keras.Model(inputs=inp, outputs=out)\n",
    "model.compile(optimizer='Adam',\n",
    "                loss='binary_crossentropy',\n",
    "                metrics=['accuracy'])\n",
    "model.summary()"
   ]
  },
  {
   "cell_type": "markdown",
   "id": "109e42d6-84df-4906-a480-97371619cced",
   "metadata": {},
   "source": [
    "## **Model Train**"
   ]
  },
  {
   "cell_type": "code",
   "execution_count": 14,
   "id": "4a59bac5-0ee5-4f43-b2a3-ec1222604712",
   "metadata": {},
   "outputs": [
    {
     "name": "stdout",
     "output_type": "stream",
     "text": [
      "Epoch 1/50\n",
      "WARNING:tensorflow:AutoGraph could not transform <function Model.make_train_function.<locals>.train_function at 0x29726c1f0> and will run it as-is.\n",
      "Please report this to the TensorFlow team. When filing the bug, set the verbosity to 10 (on Linux, `export AUTOGRAPH_VERBOSITY=10`) and attach the full output.\n",
      "Cause: unsupported operand type(s) for -: 'NoneType' and 'int'\n",
      "To silence this warning, decorate the function with @tf.autograph.experimental.do_not_convert\n",
      "WARNING: AutoGraph could not transform <function Model.make_train_function.<locals>.train_function at 0x29726c1f0> and will run it as-is.\n",
      "Please report this to the TensorFlow team. When filing the bug, set the verbosity to 10 (on Linux, `export AUTOGRAPH_VERBOSITY=10`) and attach the full output.\n",
      "Cause: unsupported operand type(s) for -: 'NoneType' and 'int'\n",
      "To silence this warning, decorate the function with @tf.autograph.experimental.do_not_convert\n",
      "1514/1514 [==============================] - ETA: 0s - loss: 0.4795 - accuracy: 0.8386WARNING:tensorflow:AutoGraph could not transform <function Model.make_test_function.<locals>.test_function at 0x2a7b96dc0> and will run it as-is.\n",
      "Please report this to the TensorFlow team. When filing the bug, set the verbosity to 10 (on Linux, `export AUTOGRAPH_VERBOSITY=10`) and attach the full output.\n",
      "Cause: unsupported operand type(s) for -: 'NoneType' and 'int'\n",
      "To silence this warning, decorate the function with @tf.autograph.experimental.do_not_convert\n",
      "WARNING: AutoGraph could not transform <function Model.make_test_function.<locals>.test_function at 0x2a7b96dc0> and will run it as-is.\n",
      "Please report this to the TensorFlow team. When filing the bug, set the verbosity to 10 (on Linux, `export AUTOGRAPH_VERBOSITY=10`) and attach the full output.\n",
      "Cause: unsupported operand type(s) for -: 'NoneType' and 'int'\n",
      "To silence this warning, decorate the function with @tf.autograph.experimental.do_not_convert\n",
      "1514/1514 [==============================] - 453s 299ms/step - loss: 0.4794 - accuracy: 0.8386 - val_loss: 0.6366 - val_accuracy: 0.7566\n",
      "Epoch 2/50\n",
      "1514/1514 [==============================] - 451s 298ms/step - loss: 0.1967 - accuracy: 0.9228 - val_loss: 1.3134 - val_accuracy: 0.7510\n",
      "Epoch 3/50\n",
      "1514/1514 [==============================] - 446s 294ms/step - loss: 0.1900 - accuracy: 0.9222 - val_loss: 0.2832 - val_accuracy: 0.8828\n",
      "Epoch 4/50\n",
      "1514/1514 [==============================] - 447s 295ms/step - loss: 0.1504 - accuracy: 0.9407 - val_loss: 0.2727 - val_accuracy: 0.9005\n",
      "Epoch 5/50\n",
      "1514/1514 [==============================] - 449s 297ms/step - loss: 0.1378 - accuracy: 0.9450 - val_loss: 0.1817 - val_accuracy: 0.9211\n",
      "Epoch 6/50\n",
      "1514/1514 [==============================] - 460s 304ms/step - loss: 0.1241 - accuracy: 0.9504 - val_loss: 0.1770 - val_accuracy: 0.9244\n",
      "Epoch 7/50\n",
      "1514/1514 [==============================] - 458s 302ms/step - loss: 0.1069 - accuracy: 0.9577 - val_loss: 0.1934 - val_accuracy: 0.9193\n",
      "Epoch 8/50\n",
      "1514/1514 [==============================] - 458s 303ms/step - loss: 0.0979 - accuracy: 0.9612 - val_loss: 0.1843 - val_accuracy: 0.9298\n",
      "Epoch 9/50\n",
      "1514/1514 [==============================] - 464s 307ms/step - loss: 0.0920 - accuracy: 0.9623 - val_loss: 0.1465 - val_accuracy: 0.9439\n",
      "Epoch 10/50\n",
      "1514/1514 [==============================] - 460s 304ms/step - loss: 0.0840 - accuracy: 0.9676 - val_loss: 0.1240 - val_accuracy: 0.9521\n",
      "Epoch 11/50\n",
      "1514/1514 [==============================] - 463s 306ms/step - loss: 0.0770 - accuracy: 0.9703 - val_loss: 0.1112 - val_accuracy: 0.9548\n",
      "Epoch 12/50\n",
      "1514/1514 [==============================] - 478s 315ms/step - loss: 0.0712 - accuracy: 0.9726 - val_loss: 0.0954 - val_accuracy: 0.9637\n",
      "Epoch 13/50\n",
      "1514/1514 [==============================] - 474s 313ms/step - loss: 0.0667 - accuracy: 0.9737 - val_loss: 0.1171 - val_accuracy: 0.9577\n",
      "Epoch 14/50\n",
      "1514/1514 [==============================] - 474s 313ms/step - loss: 0.0625 - accuracy: 0.9755 - val_loss: 0.1374 - val_accuracy: 0.9526\n",
      "Epoch 15/50\n",
      "1514/1514 [==============================] - 481s 318ms/step - loss: 0.0557 - accuracy: 0.9787 - val_loss: 0.1303 - val_accuracy: 0.9512\n",
      "Epoch 16/50\n",
      "1514/1514 [==============================] - 492s 325ms/step - loss: 0.0528 - accuracy: 0.9803 - val_loss: 0.2401 - val_accuracy: 0.9245\n",
      "Epoch 17/50\n",
      "1514/1514 [==============================] - 481s 318ms/step - loss: 0.0498 - accuracy: 0.9810 - val_loss: 0.2163 - val_accuracy: 0.9278\n",
      "Epoch 18/50\n",
      "1514/1514 [==============================] - 488s 322ms/step - loss: 0.0444 - accuracy: 0.9825 - val_loss: 0.1240 - val_accuracy: 0.9602\n",
      "Epoch 19/50\n",
      "1514/1514 [==============================] - 472s 311ms/step - loss: 0.0423 - accuracy: 0.9839 - val_loss: 0.1048 - val_accuracy: 0.9655\n",
      "Epoch 20/50\n",
      "1514/1514 [==============================] - 478s 316ms/step - loss: 0.0411 - accuracy: 0.9840 - val_loss: 0.1188 - val_accuracy: 0.9599\n",
      "Epoch 21/50\n",
      "1514/1514 [==============================] - 468s 309ms/step - loss: 0.0380 - accuracy: 0.9857 - val_loss: 0.1284 - val_accuracy: 0.9602\n",
      "Epoch 22/50\n",
      "1514/1514 [==============================] - 465s 307ms/step - loss: 0.0356 - accuracy: 0.9865 - val_loss: 0.1200 - val_accuracy: 0.9616\n",
      "Epoch 23/50\n",
      "1514/1514 [==============================] - 464s 306ms/step - loss: 0.0344 - accuracy: 0.9872 - val_loss: 0.1184 - val_accuracy: 0.9615\n",
      "Epoch 24/50\n",
      "1514/1514 [==============================] - 464s 307ms/step - loss: 0.0322 - accuracy: 0.9878 - val_loss: 0.1259 - val_accuracy: 0.9643\n",
      "Epoch 25/50\n",
      "1514/1514 [==============================] - 481s 317ms/step - loss: 0.0308 - accuracy: 0.9881 - val_loss: 0.1852 - val_accuracy: 0.9531\n",
      "Epoch 26/50\n",
      "1514/1514 [==============================] - 478s 316ms/step - loss: 0.0292 - accuracy: 0.9895 - val_loss: 0.1158 - val_accuracy: 0.9652\n",
      "Epoch 27/50\n",
      "1514/1514 [==============================] - 482s 318ms/step - loss: 0.0285 - accuracy: 0.9891 - val_loss: 0.1179 - val_accuracy: 0.9677\n",
      "Epoch 28/50\n",
      "1514/1514 [==============================] - 472s 312ms/step - loss: 0.0248 - accuracy: 0.9908 - val_loss: 0.1310 - val_accuracy: 0.9608\n",
      "Epoch 29/50\n",
      "1514/1514 [==============================] - 471s 311ms/step - loss: 0.0253 - accuracy: 0.9907 - val_loss: 1.2314 - val_accuracy: 0.8845\n",
      "Epoch 30/50\n",
      "1514/1514 [==============================] - 465s 307ms/step - loss: 0.0256 - accuracy: 0.9903 - val_loss: 0.1196 - val_accuracy: 0.9671\n",
      "Epoch 31/50\n",
      "1514/1514 [==============================] - 463s 305ms/step - loss: 0.0222 - accuracy: 0.9921 - val_loss: 0.1211 - val_accuracy: 0.9667\n",
      "Epoch 32/50\n",
      "1514/1514 [==============================] - 460s 304ms/step - loss: 0.0218 - accuracy: 0.9920 - val_loss: 0.1482 - val_accuracy: 0.9646\n",
      "Epoch 33/50\n",
      "1514/1514 [==============================] - 459s 303ms/step - loss: 0.0235 - accuracy: 0.9914 - val_loss: 0.1241 - val_accuracy: 0.9656\n",
      "Epoch 34/50\n",
      "1514/1514 [==============================] - 504s 333ms/step - loss: 0.0183 - accuracy: 0.9933 - val_loss: 0.1401 - val_accuracy: 0.9626\n",
      "Epoch 35/50\n",
      "1514/1514 [==============================] - 481s 317ms/step - loss: 0.0224 - accuracy: 0.9919 - val_loss: 0.2106 - val_accuracy: 0.9521\n",
      "Epoch 36/50\n",
      "1514/1514 [==============================] - 476s 314ms/step - loss: 0.0218 - accuracy: 0.9923 - val_loss: 0.1424 - val_accuracy: 0.9652\n",
      "Epoch 37/50\n",
      "1514/1514 [==============================] - 479s 317ms/step - loss: 0.0185 - accuracy: 0.9934 - val_loss: 0.1380 - val_accuracy: 0.9665\n",
      "Epoch 38/50\n",
      "1514/1514 [==============================] - 481s 318ms/step - loss: 0.0181 - accuracy: 0.9933 - val_loss: 0.1504 - val_accuracy: 0.9599\n",
      "Epoch 39/50\n",
      "1514/1514 [==============================] - 497s 328ms/step - loss: 0.0169 - accuracy: 0.9939 - val_loss: 0.1444 - val_accuracy: 0.9658\n",
      "Epoch 40/50\n",
      "1514/1514 [==============================] - 491s 324ms/step - loss: 0.0165 - accuracy: 0.9940 - val_loss: 0.1547 - val_accuracy: 0.9648\n",
      "Epoch 41/50\n",
      "1514/1514 [==============================] - 502s 331ms/step - loss: 0.0167 - accuracy: 0.9940 - val_loss: 0.1639 - val_accuracy: 0.9603\n",
      "Epoch 42/50\n",
      "1514/1514 [==============================] - 476s 314ms/step - loss: 0.0180 - accuracy: 0.9937 - val_loss: 0.1709 - val_accuracy: 0.9666\n",
      "Epoch 43/50\n",
      "1514/1514 [==============================] - 470s 311ms/step - loss: 0.0197 - accuracy: 0.9939 - val_loss: 0.1353 - val_accuracy: 0.9664\n",
      "Epoch 44/50\n",
      "1514/1514 [==============================] - 467s 308ms/step - loss: 0.0162 - accuracy: 0.9944 - val_loss: 0.1536 - val_accuracy: 0.9656\n",
      "Epoch 45/50\n",
      "1514/1514 [==============================] - 462s 305ms/step - loss: 0.0166 - accuracy: 0.9939 - val_loss: 0.1846 - val_accuracy: 0.9632\n",
      "Epoch 46/50\n",
      "1514/1514 [==============================] - 464s 306ms/step - loss: 0.0145 - accuracy: 0.9949 - val_loss: 0.1259 - val_accuracy: 0.9708\n",
      "Epoch 47/50\n",
      "1514/1514 [==============================] - 460s 303ms/step - loss: 0.0149 - accuracy: 0.9948 - val_loss: 0.1251 - val_accuracy: 0.9687\n",
      "Epoch 48/50\n",
      "1514/1514 [==============================] - 467s 308ms/step - loss: 0.0132 - accuracy: 0.9953 - val_loss: 0.1267 - val_accuracy: 0.9695\n",
      "Epoch 49/50\n",
      "1514/1514 [==============================] - 475s 313ms/step - loss: 0.0126 - accuracy: 0.9954 - val_loss: 0.1666 - val_accuracy: 0.9665\n",
      "Epoch 50/50\n",
      "1514/1514 [==============================] - 479s 317ms/step - loss: 0.0137 - accuracy: 0.9950 - val_loss: 0.1502 - val_accuracy: 0.9590\n"
     ]
    }
   ],
   "source": [
    "history = model.fit(x=train_imgs_scaled, y=train_labels_enc, \n",
    "                    batch_size=BATCH_SIZE,\n",
    "                    epochs=EPOCHS, \n",
    "                    validation_data=(val_imgs_scaled, val_labels_enc), \n",
    "                    #callbacks=callbacks,\n",
    "                    verbose=1)"
   ]
  },
  {
   "cell_type": "code",
   "execution_count": 15,
   "id": "7dc1a2cb-26c7-46b1-8420-e14bf33d4858",
   "metadata": {},
   "outputs": [
    {
     "data": {
      "image/png": "[encoded data removed]",
      "text/plain": [
       "<Figure size 864x288 with 2 Axes>"
      ]
     },
     "metadata": {
      "needs_background": "light"
     },
     "output_type": "display_data"
    }
   ],
   "source": [
    " f, (ax1, ax2) = plt.subplots(1, 2, figsize=(12, 4))\n",
    "t = f.suptitle('Basic CNN Performance', fontsize=12)\n",
    "f.subplots_adjust(top=0.85, wspace=0.3)\n",
    "\n",
    "max_epoch = len(history.history['accuracy'])+1\n",
    "epoch_list = list(range(1,max_epoch))\n",
    "ax1.plot(epoch_list, history.history['accuracy'], label='Train Accuracy')\n",
    "ax1.plot(epoch_list, history.history['val_accuracy'], label='Validation Accuracy')\n",
    "ax1.set_xticks(np.arange(1, max_epoch, 5))\n",
    "ax1.set_ylabel('Accuracy Value')\n",
    "ax1.set_xlabel('Epoch')\n",
    "ax1.set_title('Accuracy')\n",
    "l1 = ax1.legend(loc=\"best\")\n",
    "\n",
    "ax2.plot(epoch_list, history.history['loss'], label='Train Loss')\n",
    "ax2.plot(epoch_list, history.history['val_loss'], label='Validation Loss')\n",
    "ax2.set_xticks(np.arange(1, max_epoch, 5))\n",
    "ax2.set_ylabel('Loss Value')\n",
    "ax2.set_xlabel('Epoch')\n",
    "ax2.set_title('Loss')\n",
    "l2 = ax2.legend(loc=\"best\")"
   ]
  },
  {
   "cell_type": "code",
   "execution_count": 16,
   "id": "b6f28d86-c8a0-4d7f-8b76-02a33753d588",
   "metadata": {},
   "outputs": [],
   "source": [
    "model.save('CNN_version_2.h5')"
   ]
  },
  {
   "cell_type": "code",
   "execution_count": 11,
   "id": "da70dfdc-53fc-4fea-8bc1-2fbb4a705535",
   "metadata": {},
   "outputs": [],
   "source": [
    "basic_cnn = tf.keras.models.load_model('./CNN_version_2.h5')"
   ]
  },
  {
   "cell_type": "markdown",
   "id": "bb4c872a-8e09-40e9-8568-e4008b613f3d",
   "metadata": {},
   "source": [
    "## **Model Evaluation**"
   ]
  },
  {
   "cell_type": "code",
   "execution_count": 12,
   "id": "6871bceb-c854-4e6b-bb37-a8040a1dc992",
   "metadata": {},
   "outputs": [
    {
     "data": {
      "text/plain": [
       "((46123, 124, 124, 3), (46123,))"
      ]
     },
     "execution_count": 12,
     "metadata": {},
     "output_type": "execute_result"
    }
   ],
   "source": [
    "test_imgs_scaled = test_data / 255.\n",
    "test_imgs_scaled.shape, test_labels.shape"
   ]
  },
  {
   "cell_type": "code",
   "execution_count": 13,
   "id": "4a81d360-cfca-4c11-a10c-79d6e12368da",
   "metadata": {},
   "outputs": [
    {
     "name": "stdout",
     "output_type": "stream",
     "text": [
      "WARNING:tensorflow:AutoGraph could not transform <function Model.make_predict_function.<locals>.predict_function at 0x2b4c479d0> and will run it as-is.\n",
      "Please report this to the TensorFlow team. When filing the bug, set the verbosity to 10 (on Linux, `export AUTOGRAPH_VERBOSITY=10`) and attach the full output.\n",
      "Cause: unsupported operand type(s) for -: 'NoneType' and 'int'\n",
      "To silence this warning, decorate the function with @tf.autograph.experimental.do_not_convert\n",
      "WARNING: AutoGraph could not transform <function Model.make_predict_function.<locals>.predict_function at 0x2b4c479d0> and will run it as-is.\n",
      "Please report this to the TensorFlow team. When filing the bug, set the verbosity to 10 (on Linux, `export AUTOGRAPH_VERBOSITY=10`) and attach the full output.\n",
      "Cause: unsupported operand type(s) for -: 'NoneType' and 'int'\n",
      "To silence this warning, decorate the function with @tf.autograph.experimental.do_not_convert\n"
     ]
    }
   ],
   "source": [
    "basic_cnn_preds = basic_cnn.predict(test_imgs_scaled, batch_size=512)"
   ]
  },
  {
   "cell_type": "code",
   "execution_count": 14,
   "id": "7f94ce41-fa45-4d38-a007-a74d31804dd2",
   "metadata": {},
   "outputs": [],
   "source": [
    "basic_cnn_pred_labels = le.inverse_transform([1 if pred > 0.5 else 0 \n",
    "                                                  for pred in basic_cnn_preds.ravel()])"
   ]
  },
  {
   "cell_type": "code",
   "execution_count": 15,
   "id": "7b1f3ab1-2710-4dde-aa9b-8419cb00f218",
   "metadata": {},
   "outputs": [
    {
     "name": "stdout",
     "output_type": "stream",
     "text": [
      "Accuracy: (0.9624048739240726, 4)\n"
     ]
    }
   ],
   "source": [
    "print('Accuracy:', (metrics.accuracy_score(test_labels, basic_cnn_pred_labels),4))"
   ]
  },
  {
   "cell_type": "code",
   "execution_count": 16,
   "id": "fc359f57-66d8-4773-8b7e-cd07587996e0",
   "metadata": {},
   "outputs": [
    {
     "name": "stdout",
     "output_type": "stream",
     "text": [
      "Precision: (0.9625067588702848, 4)\n"
     ]
    }
   ],
   "source": [
    "print('Precision:',(metrics.precision_score(test_labels, basic_cnn_pred_labels,average='weighted'),\n",
    "    4))"
   ]
  },
  {
   "cell_type": "code",
   "execution_count": 17,
   "id": "d18aa52f-0a11-4438-a670-bef19835b2bb",
   "metadata": {},
   "outputs": [
    {
     "name": "stdout",
     "output_type": "stream",
     "text": [
      "Recall: (0.9624048739240726, 4)\n"
     ]
    }
   ],
   "source": [
    "print('Recall:',(metrics.recall_score(test_labels, basic_cnn_pred_labels,average='weighted'),4))"
   ]
  },
  {
   "cell_type": "code",
   "execution_count": 18,
   "id": "4445d819-2fd4-4680-9620-dac0ca051f33",
   "metadata": {},
   "outputs": [
    {
     "name": "stdout",
     "output_type": "stream",
     "text": [
      "F1 Score: (0.9624041272581109, 4)\n"
     ]
    }
   ],
   "source": [
    " print('F1 Score:',(metrics.f1_score(test_labels, basic_cnn_pred_labels,average='weighted'),4))"
   ]
  },
  {
   "cell_type": "code",
   "execution_count": 19,
   "id": "eb0764c3-7012-488e-a9a4-a1c067763c58",
   "metadata": {},
   "outputs": [
    {
     "data": {
      "image/png": "[encoded data removed]",
      "text/plain": [
       "<Figure size 864x720 with 2 Axes>"
      ]
     },
     "metadata": {
      "needs_background": "light"
     },
     "output_type": "display_data"
    }
   ],
   "source": [
    "from sklearn.metrics import confusion_matrix, roc_curve\n",
    "import seaborn as sns\n",
    "import matplotlib.pyplot as plt\n",
    "\n",
    "cm_data = confusion_matrix(test_labels, basic_cnn_pred_labels, labels=[\"abnormal\", \"normal\"])\n",
    "# ax= plt.subplot()\n",
    "fig, ax = plt.subplots(figsize=(12, 10))\n",
    "group_names = ['True Neg','False Pos','False Neg','True Pos']\n",
    "group_counts = [\"{0:0.0f}\".format(value) for value in cm_data.flatten()]\n",
    "group_percentages = [\"{0:.2%}\".format(value) for value in cm_data.flatten()/np.sum(cm_data)]\n",
    "labels = [f\"{v1}\\n{v2}\\n{v3}\" for v1, v2, v3 in zip(group_names,group_counts,group_percentages)]\n",
    "labels = np.asarray(labels).reshape(2,2)\n",
    "sns.heatmap(cm_data, annot=labels, fmt='', ax=ax, cmap='Reds');\n",
    "\n",
    "# # labels, title and ticks\n",
    "ax.set_xlabel('Predicted labels');ax.set_ylabel('True labels'); \n",
    "ax.set_title('Confusion Matrix for True vs Predicted labels'); \n",
    "ax.xaxis.set_ticklabels(['Abnormal', 'Normal']); ax.yaxis.set_ticklabels(['Abnormal', 'Normal']);"
   ]
  },
  {
   "cell_type": "code",
   "execution_count": 21,
   "id": "92bf5dee-bd8d-4220-a50c-d969d117f3a8",
   "metadata": {},
   "outputs": [
    {
     "data": {
      "image/png": "[encoded data removed]",
      "text/plain": [
       "<Figure size 432x288 with 1 Axes>"
      ]
     },
     "metadata": {
      "needs_background": "light"
     },
     "output_type": "display_data"
    }
   ],
   "source": [
    "y_scores=basic_cnn_preds[:,0]\n",
    "y_true=test_labels[:]\n",
    "fpr, tpr, _ = roc_curve(y_true, y_scores, pos_label='normal')\n",
    "plt.title(\"AUC-ROC curve\")\n",
    "plt.xlabel(\"False positive rate\")\n",
    "plt.ylabel(\"True positive rate\")\n",
    "plt.plot([0, 1], [0, 1], linestyle='--', lw=2, color='r')\n",
    "# auc = metrics.roc_auc_score(y_test, y_pred_proba)\n",
    "plt.plot(fpr,tpr)\n",
    "# plt.legend(loc=4)\n",
    "plt.show()"
   ]
  }
 ],
 "metadata": {
  "kernelspec": {
   "display_name": "Python 3",
   "language": "python",
   "name": "python3"
  },
  "language_info": {
   "codemirror_mode": {
    "name": "ipython",
    "version": 3
   },
   "file_extension": ".py",
   "mimetype": "text/x-python",
   "name": "python",
   "nbconvert_exporter": "python",
   "pygments_lexer": "ipython3",
   "version": "3.8.5"
  }
 },
 "nbformat": 4,
 "nbformat_minor": 5
}
