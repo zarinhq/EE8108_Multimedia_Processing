{
  "nbformat": 4,
  "nbformat_minor": 0,
  "metadata": {
    "colab": {
      "name": "ECG_based_Stress_Classification_Data_Pre_processing.ipynb",
      "provenance": [],
      "collapsed_sections": [],
      "machine_shape": "hm"
    },
    "kernelspec": {
      "name": "python3",
      "display_name": "Python 3"
    },
    "language_info": {
      "name": "python"
    },
    "accelerator": "GPU"
  },
  "cells": [
    {
      "cell_type": "markdown",
      "source": [
        "## **Install Dependencies**"
      ],
      "metadata": {
        "id": "eEb2ABjXAo4K"
      }
    },
    {
      "cell_type": "code",
      "execution_count": 1,
      "metadata": {
        "id": "ey6rhe5JZyeE",
        "colab": {
          "base_uri": "https://localhost:8080/",
          "height": 1000
        },
        "outputId": "028e25b7-c127-45e4-f369-f4c2b1770363"
      },
      "outputs": [
        {
          "output_type": "stream",
          "name": "stdout",
          "text": [
            "Collecting wfdb\n",
            "  Downloading wfdb-3.4.1-py3-none-any.whl (137 kB)\n",
            "\u001b[?25l\r\u001b[K     |██▍                             | 10 kB 38.1 MB/s eta 0:00:01\r\u001b[K     |████▊                           | 20 kB 39.3 MB/s eta 0:00:01\r\u001b[K     |███████▏                        | 30 kB 20.1 MB/s eta 0:00:01\r\u001b[K     |█████████▌                      | 40 kB 17.8 MB/s eta 0:00:01\r\u001b[K     |████████████                    | 51 kB 17.9 MB/s eta 0:00:01\r\u001b[K     |██████████████▎                 | 61 kB 15.8 MB/s eta 0:00:01\r\u001b[K     |████████████████▋               | 71 kB 14.1 MB/s eta 0:00:01\r\u001b[K     |███████████████████             | 81 kB 15.5 MB/s eta 0:00:01\r\u001b[K     |█████████████████████▍          | 92 kB 15.8 MB/s eta 0:00:01\r\u001b[K     |███████████████████████▉        | 102 kB 15.8 MB/s eta 0:00:01\r\u001b[K     |██████████████████████████▏     | 112 kB 15.8 MB/s eta 0:00:01\r\u001b[K     |████████████████████████████▋   | 122 kB 15.8 MB/s eta 0:00:01\r\u001b[K     |███████████████████████████████ | 133 kB 15.8 MB/s eta 0:00:01\r\u001b[K     |████████████████████████████████| 137 kB 15.8 MB/s \n",
            "\u001b[?25hCollecting wget\n",
            "  Downloading wget-3.2.zip (10 kB)\n",
            "Requirement already satisfied: tqdm in /usr/local/lib/python3.7/dist-packages (4.62.3)\n",
            "Collecting biosppy\n",
            "  Downloading biosppy-0.8.0.tar.gz (1.5 MB)\n",
            "\u001b[K     |████████████████████████████████| 1.5 MB 41.4 MB/s \n",
            "\u001b[?25hRequirement already satisfied: imbalanced-learn in /usr/local/lib/python3.7/dist-packages (0.8.1)\n",
            "Requirement already satisfied: numpy>=1.10.1 in /usr/local/lib/python3.7/dist-packages (from wfdb) (1.19.5)\n",
            "Requirement already satisfied: pandas>=0.17.0 in /usr/local/lib/python3.7/dist-packages (from wfdb) (1.1.5)\n",
            "Requirement already satisfied: requests>=2.8.1 in /usr/local/lib/python3.7/dist-packages (from wfdb) (2.23.0)\n",
            "Collecting matplotlib>=3.3.4\n",
            "  Downloading matplotlib-3.5.1-cp37-cp37m-manylinux_2_5_x86_64.manylinux1_x86_64.whl (11.2 MB)\n",
            "\u001b[K     |████████████████████████████████| 11.2 MB 68.5 MB/s \n",
            "\u001b[?25hRequirement already satisfied: scipy>=0.17.0 in /usr/local/lib/python3.7/dist-packages (from wfdb) (1.4.1)\n",
            "Requirement already satisfied: packaging>=20.0 in /usr/local/lib/python3.7/dist-packages (from matplotlib>=3.3.4->wfdb) (21.3)\n",
            "Collecting fonttools>=4.22.0\n",
            "  Downloading fonttools-4.28.5-py3-none-any.whl (890 kB)\n",
            "\u001b[K     |████████████████████████████████| 890 kB 76.5 MB/s \n",
            "\u001b[?25hRequirement already satisfied: cycler>=0.10 in /usr/local/lib/python3.7/dist-packages (from matplotlib>=3.3.4->wfdb) (0.11.0)\n",
            "Requirement already satisfied: pyparsing>=2.2.1 in /usr/local/lib/python3.7/dist-packages (from matplotlib>=3.3.4->wfdb) (3.0.6)\n",
            "Requirement already satisfied: pillow>=6.2.0 in /usr/local/lib/python3.7/dist-packages (from matplotlib>=3.3.4->wfdb) (7.1.2)\n",
            "Requirement already satisfied: python-dateutil>=2.7 in /usr/local/lib/python3.7/dist-packages (from matplotlib>=3.3.4->wfdb) (2.8.2)\n",
            "Requirement already satisfied: kiwisolver>=1.0.1 in /usr/local/lib/python3.7/dist-packages (from matplotlib>=3.3.4->wfdb) (1.3.2)\n",
            "Requirement already satisfied: pytz>=2017.2 in /usr/local/lib/python3.7/dist-packages (from pandas>=0.17.0->wfdb) (2018.9)\n",
            "Requirement already satisfied: six>=1.5 in /usr/local/lib/python3.7/dist-packages (from python-dateutil>=2.7->matplotlib>=3.3.4->wfdb) (1.15.0)\n",
            "Requirement already satisfied: chardet<4,>=3.0.2 in /usr/local/lib/python3.7/dist-packages (from requests>=2.8.1->wfdb) (3.0.4)\n",
            "Requirement already satisfied: idna<3,>=2.5 in /usr/local/lib/python3.7/dist-packages (from requests>=2.8.1->wfdb) (2.10)\n",
            "Requirement already satisfied: certifi>=2017.4.17 in /usr/local/lib/python3.7/dist-packages (from requests>=2.8.1->wfdb) (2021.10.8)\n",
            "Requirement already satisfied: urllib3!=1.25.0,!=1.25.1,<1.26,>=1.21.1 in /usr/local/lib/python3.7/dist-packages (from requests>=2.8.1->wfdb) (1.24.3)\n",
            "Collecting bidict\n",
            "  Downloading bidict-0.21.4-py3-none-any.whl (36 kB)\n",
            "Requirement already satisfied: h5py in /usr/local/lib/python3.7/dist-packages (from biosppy) (3.1.0)\n",
            "Requirement already satisfied: scikit-learn in /usr/local/lib/python3.7/dist-packages (from biosppy) (1.0.1)\n",
            "Collecting shortuuid\n",
            "  Downloading shortuuid-1.0.8-py3-none-any.whl (9.5 kB)\n",
            "Requirement already satisfied: joblib in /usr/local/lib/python3.7/dist-packages (from biosppy) (1.1.0)\n",
            "Requirement already satisfied: opencv-python in /usr/local/lib/python3.7/dist-packages (from biosppy) (4.1.2.30)\n",
            "Requirement already satisfied: threadpoolctl>=2.0.0 in /usr/local/lib/python3.7/dist-packages (from scikit-learn->biosppy) (3.0.0)\n",
            "Requirement already satisfied: cached-property in /usr/local/lib/python3.7/dist-packages (from h5py->biosppy) (1.5.2)\n",
            "Building wheels for collected packages: wget, biosppy\n",
            "  Building wheel for wget (setup.py) ... \u001b[?25l\u001b[?25hdone\n",
            "  Created wheel for wget: filename=wget-3.2-py3-none-any.whl size=9672 sha256=34b6a93d21c9347cc738c3dc9bf05c462a84c474f819b84df2249f352bf87cc3\n",
            "  Stored in directory: /root/.cache/pip/wheels/a1/b6/7c/0e63e34eb06634181c63adacca38b79ff8f35c37e3c13e3c02\n",
            "  Building wheel for biosppy (setup.py) ... \u001b[?25l\u001b[?25hdone\n",
            "  Created wheel for biosppy: filename=biosppy-0.8.0-py2.py3-none-any.whl size=100175 sha256=23d92e2879653e32ffbee97c74748cb9d982e86c6a68a23684774b28e5fb73c0\n",
            "  Stored in directory: /root/.cache/pip/wheels/32/17/9d/77adbf0db713546eaa1c7a1480b2dce91fa724a133115dc20c\n",
            "Successfully built wget biosppy\n",
            "Installing collected packages: fonttools, shortuuid, matplotlib, bidict, wget, wfdb, biosppy\n",
            "  Attempting uninstall: matplotlib\n",
            "    Found existing installation: matplotlib 3.2.2\n",
            "    Uninstalling matplotlib-3.2.2:\n",
            "      Successfully uninstalled matplotlib-3.2.2\n",
            "\u001b[31mERROR: pip's dependency resolver does not currently take into account all the packages that are installed. This behaviour is the source of the following dependency conflicts.\n",
            "albumentations 0.1.12 requires imgaug<0.2.7,>=0.2.5, but you have imgaug 0.2.9 which is incompatible.\u001b[0m\n",
            "Successfully installed bidict-0.21.4 biosppy-0.8.0 fonttools-4.28.5 matplotlib-3.5.1 shortuuid-1.0.8 wfdb-3.4.1 wget-3.2\n"
          ]
        },
        {
          "output_type": "display_data",
          "data": {
            "application/vnd.colab-display-data+json": {
              "pip_warning": {
                "packages": [
                  "matplotlib",
                  "mpl_toolkits"
                ]
              }
            }
          },
          "metadata": {}
        }
      ],
      "source": [
        "pip install wfdb wget tqdm biosppy imbalanced-learn"
      ]
    },
    {
      "cell_type": "code",
      "source": [
        "!pip uninstall matplotlib --yes\n",
        "!pip install matplotlib==3.1.3 "
      ],
      "metadata": {
        "id": "XPQilV9qaZmH",
        "colab": {
          "base_uri": "https://localhost:8080/",
          "height": 420
        },
        "outputId": "9e6b40d0-47b8-496f-9e09-5a7906f13814"
      },
      "execution_count": 2,
      "outputs": [
        {
          "output_type": "stream",
          "name": "stdout",
          "text": [
            "Found existing installation: matplotlib 3.5.1\n",
            "Uninstalling matplotlib-3.5.1:\n",
            "  Successfully uninstalled matplotlib-3.5.1\n",
            "Collecting matplotlib==3.1.3\n",
            "  Downloading matplotlib-3.1.3-cp37-cp37m-manylinux1_x86_64.whl (13.1 MB)\n",
            "\u001b[K     |████████████████████████████████| 13.1 MB 13.9 MB/s \n",
            "\u001b[?25hRequirement already satisfied: numpy>=1.11 in /usr/local/lib/python3.7/dist-packages (from matplotlib==3.1.3) (1.19.5)\n",
            "Requirement already satisfied: python-dateutil>=2.1 in /usr/local/lib/python3.7/dist-packages (from matplotlib==3.1.3) (2.8.2)\n",
            "Requirement already satisfied: cycler>=0.10 in /usr/local/lib/python3.7/dist-packages (from matplotlib==3.1.3) (0.11.0)\n",
            "Requirement already satisfied: pyparsing!=2.0.4,!=2.1.2,!=2.1.6,>=2.0.1 in /usr/local/lib/python3.7/dist-packages (from matplotlib==3.1.3) (3.0.6)\n",
            "Requirement already satisfied: kiwisolver>=1.0.1 in /usr/local/lib/python3.7/dist-packages (from matplotlib==3.1.3) (1.3.2)\n",
            "Requirement already satisfied: six>=1.5 in /usr/local/lib/python3.7/dist-packages (from python-dateutil>=2.1->matplotlib==3.1.3) (1.15.0)\n",
            "Installing collected packages: matplotlib\n",
            "\u001b[31mERROR: pip's dependency resolver does not currently take into account all the packages that are installed. This behaviour is the source of the following dependency conflicts.\n",
            "wfdb 3.4.1 requires matplotlib>=3.3.4, but you have matplotlib 3.1.3 which is incompatible.\n",
            "albumentations 0.1.12 requires imgaug<0.2.7,>=0.2.5, but you have imgaug 0.2.9 which is incompatible.\u001b[0m\n",
            "Successfully installed matplotlib-3.1.3\n"
          ]
        },
        {
          "output_type": "display_data",
          "data": {
            "application/vnd.colab-display-data+json": {
              "pip_warning": {
                "packages": [
                  "matplotlib",
                  "mpl_toolkits"
                ]
              }
            }
          },
          "metadata": {}
        }
      ]
    },
    {
      "cell_type": "markdown",
      "source": [
        "## **Importing Libraries**"
      ],
      "metadata": {
        "id": "qiPxjCXPA7sE"
      }
    },
    {
      "cell_type": "code",
      "source": [
        "import tensorflow as tf\n",
        "import matplotlib.pyplot as plt\n",
        "import pandas as pd\n",
        "import numpy as np\n",
        "from glob import glob\n",
        "import wget\n",
        "import zipfile\n",
        "import wfdb as wf\n",
        "import os\n",
        "from scipy import signal\n",
        "from biosppy.signals import ecg\n",
        "import cv2\n",
        "from sklearn.model_selection import train_test_split\n",
        "from collections import Counter\n",
        "from sklearn.preprocessing import LabelEncoder\n",
        "from imblearn.over_sampling import SMOTE"
      ],
      "metadata": {
        "id": "V1UDgnuZaeoO"
      },
      "execution_count": 3,
      "outputs": []
    },
    {
      "cell_type": "markdown",
      "source": [
        "## **Downloading and Extracting Zip Files**"
      ],
      "metadata": {
        "id": "yaxuqQnDaiOa"
      }
    },
    {
      "cell_type": "code",
      "source": [
        "url = 'https://physionet.org/static/published-projects/stdb/mit-bih-st-change-database-1.0.0.zip'\n",
        "filename = wget.download(url)\n",
        "zip = zipfile.ZipFile(filename)\n",
        "zip.extractall()"
      ],
      "metadata": {
        "id": "CzMDn_TFao9a"
      },
      "execution_count": 4,
      "outputs": []
    },
    {
      "cell_type": "code",
      "source": [
        "url = 'https://physionet.org/static/published-projects/mitdb/mit-bih-arrhythmia-database-1.0.0.zip'\n",
        "filename = wget.download(url)\n",
        "zip = zipfile.ZipFile(filename)\n",
        "zip.extractall()"
      ],
      "metadata": {
        "id": "93bhFEBxauev"
      },
      "execution_count": 5,
      "outputs": []
    },
    {
      "cell_type": "code",
      "source": [
        "os.rename('mit-bih-st-change-database-1.0.0','mitdb_1')\n",
        "os.rename('mit-bih-arrhythmia-database-1.0.0','mitdb_2')"
      ],
      "metadata": {
        "id": "NHHNMt8iaxEH"
      },
      "execution_count": 6,
      "outputs": []
    },
    {
      "cell_type": "markdown",
      "source": [
        "## **Data Preprocessing**"
      ],
      "metadata": {
        "id": "NYUuYblwBjAN"
      }
    },
    {
      "cell_type": "code",
      "source": [
        "all_heart_beats_symbols = ['N','L','R','B','A','a','J','S','V','r',\n",
        "             'F','e','j','n','E','/','f','Q','?']"
      ],
      "metadata": {
        "id": "-vMuzsiQa0h_"
      },
      "execution_count": 12,
      "outputs": []
    },
    {
      "cell_type": "code",
      "source": [
        "!rm ./mitdb_2/102-0.atr"
      ],
      "metadata": {
        "id": "N23pdAPeB4Z_"
      },
      "execution_count": 8,
      "outputs": []
    },
    {
      "cell_type": "code",
      "source": [
        "atr_records = glob('./mitdb_*/*.atr');\n",
        "atr_records = [atr_record[:-4] for atr_record in atr_records];\n",
        "atr_records.sort();\n",
        "print('Total files: ', len(atr_records));"
      ],
      "metadata": {
        "id": "CKUnvgbSa4M4",
        "colab": {
          "base_uri": "https://localhost:8080/"
        },
        "outputId": "520fd11b-f938-42d7-951d-5658bb8564e9"
      },
      "execution_count": 9,
      "outputs": [
        {
          "output_type": "stream",
          "name": "stdout",
          "text": [
            "Total files:  76\n"
          ]
        }
      ]
    },
    {
      "cell_type": "code",
      "source": [
        "full_frames = np.array([])\n",
        "for full_loc in atr_records:\n",
        "    paths_number = full_loc.split('/')\n",
        "    fn = paths_number[-1]\n",
        "    print('Loading file:', full_loc)\n",
        "\n",
        "    signal_data = wf.rdsamp(full_loc)\n",
        "    annot = wf.rdann(full_loc, 'atr')\n",
        "    signal_data_t = signal_data[0].transpose()\n",
        "\n",
        "    annot_type = np.array(annot.symbol)\n",
        "    beat_rate = np.zeros_like(annot_type, dtype='float')\n",
        "    for annot_type_id, annot_type_value in enumerate(annot_type):\n",
        "        if (annot_type_value == 'N'):\n",
        "            beat_rate[annot_type_id] = 1.0 # Normal\n",
        "        elif(annot_type_value in all_heart_beats_symbols):\n",
        "            beat_rate[annot_type_id] = 2.0 # Abnormal\n",
        "    beat_rates = np.zeros_like(signal_data_t[0], dtype='float')\n",
        "    beat_rates[annot.sample] = beat_rate\n",
        "\n",
        "    for chan_idx, chan_name in enumerate(signal_data_t):\n",
        "        SAMPLE_SIZE = signal_data[0].shape[0]\n",
        "        times = (np.arange(SAMPLE_SIZE, dtype = 'float')) / signal_data[1].get('fs')\n",
        "        fs = signal_data[1].get('fs')  # Sampling frequency\n",
        "\n",
        "        fc = 150  # Cut-off frequency of the filter\n",
        "        w = fc / (fs / 2) # Normalize the frequency\n",
        "        b, a = signal.butter(5, w, 'low')\n",
        "        chan_name = signal.filtfilt(b, a, chan_name)\n",
        "\n",
        "        print(' --> ECG channel type name:', signal_data[1].get('sig_name')[chan_idx])\n",
        "\n",
        "        output = ecg.ecg(signal=chan_name, sampling_rate=360, show=False)\n",
        "        rpeaks = np.zeros_like(chan_name, dtype='float')\n",
        "        rpeaks[output['rpeaks']] = 1.0\n",
        "        \n",
        "        remove_array = np.array([0])\n",
        "\n",
        "        heart_beat = np.split(chan_name, output['rpeaks'])\n",
        "        \n",
        "        \n",
        "        for idx, idxval in enumerate(output['rpeaks']):\n",
        "            if ((idx == 0) or (idx == len(heart_beat) - 1)):\n",
        "                continue\n",
        "            if idxval < 10:\n",
        "                fromidx = 0\n",
        "            else:\n",
        "                fromidx = idxval - 10\n",
        "            \n",
        "            toidx = idxval + 10\n",
        "            annot_type_value = beat_rates[fromidx:toidx].max()\n",
        "            \n",
        "            if (annot_type_value == 0.0):\n",
        "                remove_array = np.append(remove_array, idx)\n",
        "                continue\n",
        "\n",
        "            annot_type_value = annot_type_value - 1.0\n",
        "            heart_beat[idx] = np.append(heart_beat[idx], heart_beat[idx+1][:40])\n",
        "            heart_beat[idx] = (heart_beat[idx] - heart_beat[idx].min()) / heart_beat[idx].ptp()\n",
        "\n",
        "            if (heart_beat[idx].size > 280):\n",
        "                remove_array = np.append(remove_array, idx)\n",
        "                continue\n",
        "\n",
        "            zero_pad_count = 300 - heart_beat[idx].size\n",
        "            heart_beat[idx] = np.pad(heart_beat[idx], (0, zero_pad_count), 'constant', constant_values=(0.0, 0.0))            \n",
        "            heart_beat[idx] = np.append(heart_beat[idx], annot_type_value)\n",
        "\n",
        "        remove_array = np.append(remove_array, len(heart_beat)-1)\n",
        "\n",
        "        heart_beat = np.delete(heart_beat, remove_array)\n",
        "\n",
        "        final_data = np.array(list(heart_beat[:]), dtype=np.float)\n",
        "        if(full_frames.size == 0):\n",
        "          full_frames = final_data\n",
        "        else:\n",
        "          if(final_data.size != 0):\n",
        "            full_frames = np.concatenate((full_frames, final_data), axis=0)\n",
        "        print(\"New data shape\", final_data.shape, \"Total Shape: \", full_frames.shape)"
      ],
      "metadata": {
        "colab": {
          "base_uri": "https://localhost:8080/"
        },
        "id": "KnWrr3p0BuhC",
        "outputId": "77c0d7af-7bd2-41c4-80da-8d0f9f4d222e"
      },
      "execution_count": 14,
      "outputs": [
        {
          "output_type": "stream",
          "name": "stdout",
          "text": [
            "Loading file: ./mitdb_1/300\n",
            " --> ECG channel type name: ECG\n"
          ]
        },
        {
          "output_type": "stream",
          "name": "stderr",
          "text": [
            "/usr/local/lib/python3.7/dist-packages/numpy/core/_asarray.py:83: VisibleDeprecationWarning: Creating an ndarray from ragged nested sequences (which is a list-or-tuple of lists-or-tuples-or ndarrays with different lengths or shapes) is deprecated. If you meant to do this, you must specify 'dtype=object' when creating the ndarray\n",
            "  return array(a, dtype, copy=False, order=order)\n"
          ]
        },
        {
          "output_type": "stream",
          "name": "stdout",
          "text": [
            "New data shape (2534, 301) Total Shape:  (2534, 301)\n",
            " --> ECG channel type name: ECG\n",
            "New data shape (3, 301) Total Shape:  (2537, 301)\n",
            "Loading file: ./mitdb_1/301\n",
            " --> ECG channel type name: ECG\n",
            "New data shape (862, 301) Total Shape:  (3399, 301)\n",
            " --> ECG channel type name: ECG\n",
            "New data shape (863, 301) Total Shape:  (4262, 301)\n",
            "Loading file: ./mitdb_1/302\n",
            " --> ECG channel type name: ECG\n",
            "New data shape (1108, 301) Total Shape:  (5370, 301)\n",
            " --> ECG channel type name: ECG\n",
            "New data shape (0,) Total Shape:  (5370, 301)\n",
            "Loading file: ./mitdb_1/303\n",
            " --> ECG channel type name: ECG\n",
            "New data shape (1357, 301) Total Shape:  (6727, 301)\n",
            " --> ECG channel type name: ECG\n",
            "New data shape (1367, 301) Total Shape:  (8094, 301)\n",
            "Loading file: ./mitdb_1/304\n",
            " --> ECG channel type name: ECG\n",
            "New data shape (0,) Total Shape:  (8094, 301)\n",
            " --> ECG channel type name: ECG\n",
            "New data shape (35, 301) Total Shape:  (8129, 301)\n",
            "Loading file: ./mitdb_1/305\n",
            " --> ECG channel type name: ECG\n",
            "New data shape (172, 301) Total Shape:  (8301, 301)\n",
            " --> ECG channel type name: ECG\n",
            "New data shape (301, 301) Total Shape:  (8602, 301)\n",
            "Loading file: ./mitdb_1/306\n",
            " --> ECG channel type name: ECG\n",
            "New data shape (4148, 301) Total Shape:  (12750, 301)\n",
            " --> ECG channel type name: ECG\n",
            "New data shape (0,) Total Shape:  (12750, 301)\n",
            "Loading file: ./mitdb_1/307\n",
            " --> ECG channel type name: ECG\n",
            "New data shape (449, 301) Total Shape:  (13199, 301)\n",
            " --> ECG channel type name: ECG\n",
            "New data shape (441, 301) Total Shape:  (13640, 301)\n",
            "Loading file: ./mitdb_1/308\n",
            " --> ECG channel type name: ECG\n",
            "New data shape (194, 301) Total Shape:  (13834, 301)\n",
            " --> ECG channel type name: ECG\n",
            "New data shape (209, 301) Total Shape:  (14043, 301)\n",
            "Loading file: ./mitdb_1/309\n",
            " --> ECG channel type name: ECG\n",
            "New data shape (4441, 301) Total Shape:  (18484, 301)\n",
            " --> ECG channel type name: ECG\n",
            "New data shape (4396, 301) Total Shape:  (22880, 301)\n",
            "Loading file: ./mitdb_1/310\n",
            " --> ECG channel type name: ECG\n",
            "New data shape (2384, 301) Total Shape:  (25264, 301)\n",
            " --> ECG channel type name: ECG\n",
            "New data shape (2378, 301) Total Shape:  (27642, 301)\n",
            "Loading file: ./mitdb_1/311\n",
            " --> ECG channel type name: ECG\n",
            "New data shape (1912, 301) Total Shape:  (29554, 301)\n",
            " --> ECG channel type name: ECG\n",
            "New data shape (124, 301) Total Shape:  (29678, 301)\n",
            "Loading file: ./mitdb_1/312\n",
            " --> ECG channel type name: ECG\n",
            "New data shape (706, 301) Total Shape:  (30384, 301)\n",
            " --> ECG channel type name: ECG\n",
            "New data shape (40, 301) Total Shape:  (30424, 301)\n",
            "Loading file: ./mitdb_1/313\n",
            " --> ECG channel type name: ECG\n",
            "New data shape (2267, 301) Total Shape:  (32691, 301)\n",
            "Loading file: ./mitdb_1/314\n",
            " --> ECG channel type name: ECG\n",
            "New data shape (855, 301) Total Shape:  (33546, 301)\n",
            "Loading file: ./mitdb_1/315\n",
            " --> ECG channel type name: ECG\n",
            "New data shape (91, 301) Total Shape:  (33637, 301)\n",
            "Loading file: ./mitdb_1/316\n",
            " --> ECG channel type name: ECG\n",
            "New data shape (3285, 301) Total Shape:  (36922, 301)\n",
            "Loading file: ./mitdb_1/317\n",
            " --> ECG channel type name: ECG\n",
            "New data shape (1787, 301) Total Shape:  (38709, 301)\n",
            "Loading file: ./mitdb_1/318\n",
            " --> ECG channel type name: ECG\n",
            "New data shape (12, 301) Total Shape:  (38721, 301)\n",
            " --> ECG channel type name: ECG\n",
            "New data shape (258, 301) Total Shape:  (38979, 301)\n",
            "Loading file: ./mitdb_1/319\n",
            " --> ECG channel type name: ECG\n",
            "New data shape (2319, 301) Total Shape:  (41298, 301)\n",
            "Loading file: ./mitdb_1/320\n",
            " --> ECG channel type name: ECG\n",
            "New data shape (2052, 301) Total Shape:  (43350, 301)\n",
            "Loading file: ./mitdb_1/321\n",
            " --> ECG channel type name: ECG\n",
            "New data shape (1111, 301) Total Shape:  (44461, 301)\n",
            "Loading file: ./mitdb_1/322\n",
            " --> ECG channel type name: ECG\n",
            "New data shape (1468, 301) Total Shape:  (45929, 301)\n",
            "Loading file: ./mitdb_1/323\n",
            " --> ECG channel type name: ECG\n",
            "New data shape (2, 301) Total Shape:  (45931, 301)\n",
            "Loading file: ./mitdb_1/324\n",
            " --> ECG channel type name: ECG\n",
            "New data shape (39, 301) Total Shape:  (45970, 301)\n",
            " --> ECG channel type name: ECG\n",
            "New data shape (36, 301) Total Shape:  (46006, 301)\n",
            "Loading file: ./mitdb_1/325\n",
            " --> ECG channel type name: ECG\n",
            "New data shape (0,) Total Shape:  (46006, 301)\n",
            " --> ECG channel type name: ECG\n",
            "New data shape (0,) Total Shape:  (46006, 301)\n",
            "Loading file: ./mitdb_1/326\n",
            " --> ECG channel type name: ECG\n",
            "New data shape (14, 301) Total Shape:  (46020, 301)\n",
            " --> ECG channel type name: ECG\n",
            "New data shape (11, 301) Total Shape:  (46031, 301)\n",
            "Loading file: ./mitdb_1/327\n",
            " --> ECG channel type name: ECG\n",
            "New data shape (1, 301) Total Shape:  (46032, 301)\n",
            " --> ECG channel type name: ECG\n",
            "New data shape (16, 301) Total Shape:  (46048, 301)\n",
            "Loading file: ./mitdb_2/100\n",
            " --> ECG channel type name: MLII\n",
            "New data shape (34, 301) Total Shape:  (46082, 301)\n",
            " --> ECG channel type name: V5\n",
            "New data shape (34, 301) Total Shape:  (46116, 301)\n",
            "Loading file: ./mitdb_2/101\n",
            " --> ECG channel type name: MLII\n",
            "New data shape (3, 301) Total Shape:  (46119, 301)\n",
            " --> ECG channel type name: V1\n",
            "New data shape (96, 301) Total Shape:  (46215, 301)\n",
            "Loading file: ./mitdb_2/102\n",
            " --> ECG channel type name: V5\n",
            "New data shape (1, 301) Total Shape:  (46216, 301)\n",
            " --> ECG channel type name: V2\n",
            "New data shape (7, 301) Total Shape:  (46223, 301)\n",
            "Loading file: ./mitdb_2/103\n",
            " --> ECG channel type name: MLII\n",
            "New data shape (3, 301) Total Shape:  (46226, 301)\n",
            " --> ECG channel type name: V2\n",
            "New data shape (40, 301) Total Shape:  (46266, 301)\n",
            "Loading file: ./mitdb_2/104\n",
            " --> ECG channel type name: V5\n",
            "New data shape (18, 301) Total Shape:  (46284, 301)\n",
            " --> ECG channel type name: V2\n",
            "New data shape (53, 301) Total Shape:  (46337, 301)\n",
            "Loading file: ./mitdb_2/105\n",
            " --> ECG channel type name: MLII\n",
            "New data shape (480, 301) Total Shape:  (46817, 301)\n",
            " --> ECG channel type name: V1\n",
            "New data shape (60, 301) Total Shape:  (46877, 301)\n",
            "Loading file: ./mitdb_2/106\n",
            " --> ECG channel type name: MLII\n",
            "New data shape (387, 301) Total Shape:  (47264, 301)\n",
            " --> ECG channel type name: V1\n",
            "New data shape (143, 301) Total Shape:  (47407, 301)\n",
            "Loading file: ./mitdb_2/107\n",
            " --> ECG channel type name: MLII\n",
            "New data shape (4, 301) Total Shape:  (47411, 301)\n",
            " --> ECG channel type name: V1\n",
            "New data shape (2, 301) Total Shape:  (47413, 301)\n",
            "Loading file: ./mitdb_2/108\n",
            " --> ECG channel type name: MLII\n",
            "New data shape (14, 301) Total Shape:  (47427, 301)\n",
            " --> ECG channel type name: V1\n",
            "New data shape (8, 301) Total Shape:  (47435, 301)\n",
            "Loading file: ./mitdb_2/109\n",
            " --> ECG channel type name: MLII\n",
            "New data shape (187, 301) Total Shape:  (47622, 301)\n",
            " --> ECG channel type name: V1\n",
            "New data shape (0,) Total Shape:  (47622, 301)\n",
            "Loading file: ./mitdb_2/111\n",
            " --> ECG channel type name: MLII\n",
            "New data shape (0,) Total Shape:  (47622, 301)\n",
            " --> ECG channel type name: V1\n",
            "New data shape (0,) Total Shape:  (47622, 301)\n",
            "Loading file: ./mitdb_2/112\n",
            " --> ECG channel type name: MLII\n",
            "New data shape (50, 301) Total Shape:  (47672, 301)\n",
            " --> ECG channel type name: V1\n",
            "New data shape (6, 301) Total Shape:  (47678, 301)\n",
            "Loading file: ./mitdb_2/113\n",
            " --> ECG channel type name: MLII\n",
            "New data shape (6, 301) Total Shape:  (47684, 301)\n",
            " --> ECG channel type name: V1\n",
            "New data shape (2, 301) Total Shape:  (47686, 301)\n",
            "Loading file: ./mitdb_2/114\n",
            " --> ECG channel type name: V5\n",
            "New data shape (21, 301) Total Shape:  (47707, 301)\n",
            " --> ECG channel type name: MLII\n",
            "New data shape (5, 301) Total Shape:  (47712, 301)\n",
            "Loading file: ./mitdb_2/115\n",
            " --> ECG channel type name: MLII\n",
            "New data shape (0,) Total Shape:  (47712, 301)\n",
            " --> ECG channel type name: V1\n",
            "New data shape (0,) Total Shape:  (47712, 301)\n",
            "Loading file: ./mitdb_2/116\n",
            " --> ECG channel type name: MLII\n",
            "New data shape (109, 301) Total Shape:  (47821, 301)\n",
            " --> ECG channel type name: V1\n",
            "New data shape (11, 301) Total Shape:  (47832, 301)\n",
            "Loading file: ./mitdb_2/117\n",
            " --> ECG channel type name: MLII\n",
            "New data shape (1, 301) Total Shape:  (47833, 301)\n",
            " --> ECG channel type name: V2\n",
            "New data shape (1, 301) Total Shape:  (47834, 301)\n",
            "Loading file: ./mitdb_2/118\n",
            " --> ECG channel type name: MLII\n",
            "New data shape (117, 301) Total Shape:  (47951, 301)\n",
            " --> ECG channel type name: V1\n",
            "New data shape (117, 301) Total Shape:  (48068, 301)\n",
            "Loading file: ./mitdb_2/119\n",
            " --> ECG channel type name: MLII\n",
            "New data shape (442, 301) Total Shape:  (48510, 301)\n",
            " --> ECG channel type name: V1\n",
            "New data shape (0,) Total Shape:  (48510, 301)\n",
            "Loading file: ./mitdb_2/121\n",
            " --> ECG channel type name: MLII\n",
            "New data shape (0,) Total Shape:  (48510, 301)\n",
            " --> ECG channel type name: V1\n",
            "New data shape (0,) Total Shape:  (48510, 301)\n",
            "Loading file: ./mitdb_2/122\n",
            " --> ECG channel type name: MLII\n",
            "New data shape (127, 301) Total Shape:  (48637, 301)\n",
            " --> ECG channel type name: V1\n",
            "New data shape (127, 301) Total Shape:  (48764, 301)\n",
            "Loading file: ./mitdb_2/123\n",
            " --> ECG channel type name: MLII\n",
            "New data shape (0,) Total Shape:  (48764, 301)\n",
            " --> ECG channel type name: V5\n",
            "New data shape (4, 301) Total Shape:  (48768, 301)\n",
            "Loading file: ./mitdb_2/124\n",
            " --> ECG channel type name: MLII\n",
            "New data shape (2, 301) Total Shape:  (48770, 301)\n",
            " --> ECG channel type name: V4\n",
            "New data shape (0,) Total Shape:  (48770, 301)\n",
            "Loading file: ./mitdb_2/200\n",
            " --> ECG channel type name: MLII\n",
            "New data shape (569, 301) Total Shape:  (49339, 301)\n",
            " --> ECG channel type name: V1\n",
            "New data shape (181, 301) Total Shape:  (49520, 301)\n",
            "Loading file: ./mitdb_2/201\n",
            " --> ECG channel type name: MLII\n",
            "New data shape (525, 301) Total Shape:  (50045, 301)\n",
            " --> ECG channel type name: V1\n",
            "New data shape (95, 301) Total Shape:  (50140, 301)\n",
            "Loading file: ./mitdb_2/202\n",
            " --> ECG channel type name: MLII\n",
            "New data shape (747, 301) Total Shape:  (50887, 301)\n",
            " --> ECG channel type name: V1\n",
            "New data shape (88, 301) Total Shape:  (50975, 301)\n",
            "Loading file: ./mitdb_2/203\n",
            " --> ECG channel type name: MLII\n",
            "New data shape (1344, 301) Total Shape:  (52319, 301)\n",
            " --> ECG channel type name: V1\n",
            "New data shape (357, 301) Total Shape:  (52676, 301)\n",
            "Loading file: ./mitdb_2/205\n",
            " --> ECG channel type name: MLII\n",
            "New data shape (1107, 301) Total Shape:  (53783, 301)\n",
            " --> ECG channel type name: V1\n",
            "New data shape (1128, 301) Total Shape:  (54911, 301)\n",
            "Loading file: ./mitdb_2/207\n",
            " --> ECG channel type name: MLII\n",
            "New data shape (8, 301) Total Shape:  (54919, 301)\n",
            " --> ECG channel type name: V1\n",
            "New data shape (15, 301) Total Shape:  (54934, 301)\n",
            "Loading file: ./mitdb_2/208\n",
            " --> ECG channel type name: MLII\n",
            "New data shape (1180, 301) Total Shape:  (56114, 301)\n",
            " --> ECG channel type name: V1\n",
            "New data shape (130, 301) Total Shape:  (56244, 301)\n",
            "Loading file: ./mitdb_2/209\n",
            " --> ECG channel type name: MLII\n",
            "New data shape (2704, 301) Total Shape:  (58948, 301)\n",
            " --> ECG channel type name: V1\n",
            "New data shape (2313, 301) Total Shape:  (61261, 301)\n",
            "Loading file: ./mitdb_2/210\n",
            " --> ECG channel type name: MLII\n",
            "New data shape (958, 301) Total Shape:  (62219, 301)\n",
            " --> ECG channel type name: V1\n",
            "New data shape (75, 301) Total Shape:  (62294, 301)\n",
            "Loading file: ./mitdb_2/212\n",
            " --> ECG channel type name: MLII\n",
            "New data shape (1732, 301) Total Shape:  (64026, 301)\n",
            " --> ECG channel type name: V1\n",
            "New data shape (385, 301) Total Shape:  (64411, 301)\n",
            "Loading file: ./mitdb_2/213\n",
            " --> ECG channel type name: MLII\n",
            "New data shape (3177, 301) Total Shape:  (67588, 301)\n",
            " --> ECG channel type name: V1\n",
            "New data shape (45, 301) Total Shape:  (67633, 301)\n",
            "Loading file: ./mitdb_2/214\n",
            " --> ECG channel type name: MLII\n",
            "New data shape (254, 301) Total Shape:  (67887, 301)\n",
            " --> ECG channel type name: V1\n",
            "New data shape (143, 301) Total Shape:  (68030, 301)\n",
            "Loading file: ./mitdb_2/215\n",
            " --> ECG channel type name: MLII\n",
            "New data shape (3280, 301) Total Shape:  (71310, 301)\n",
            " --> ECG channel type name: V1\n",
            "New data shape (2908, 301) Total Shape:  (74218, 301)\n",
            "Loading file: ./mitdb_2/217\n",
            " --> ECG channel type name: MLII\n",
            "New data shape (122, 301) Total Shape:  (74340, 301)\n",
            " --> ECG channel type name: V1\n",
            "New data shape (78, 301) Total Shape:  (74418, 301)\n",
            "Loading file: ./mitdb_2/219\n",
            " --> ECG channel type name: MLII\n",
            "New data shape (387, 301) Total Shape:  (74805, 301)\n",
            " --> ECG channel type name: V1\n",
            "New data shape (344, 301) Total Shape:  (75149, 301)\n",
            "Loading file: ./mitdb_2/220\n",
            " --> ECG channel type name: MLII\n",
            "New data shape (86, 301) Total Shape:  (75235, 301)\n",
            " --> ECG channel type name: V1\n",
            "New data shape (86, 301) Total Shape:  (75321, 301)\n",
            "Loading file: ./mitdb_2/221\n",
            " --> ECG channel type name: MLII\n",
            "New data shape (617, 301) Total Shape:  (75938, 301)\n",
            " --> ECG channel type name: V1\n",
            "New data shape (508, 301) Total Shape:  (76446, 301)\n",
            "Loading file: ./mitdb_2/222\n",
            " --> ECG channel type name: MLII\n",
            "New data shape (942, 301) Total Shape:  (77388, 301)\n",
            " --> ECG channel type name: V1\n",
            "New data shape (110, 301) Total Shape:  (77498, 301)\n",
            "Loading file: ./mitdb_2/223\n",
            " --> ECG channel type name: MLII\n",
            "New data shape (523, 301) Total Shape:  (78021, 301)\n",
            " --> ECG channel type name: V1\n",
            "New data shape (447, 301) Total Shape:  (78468, 301)\n",
            "Loading file: ./mitdb_2/228\n",
            " --> ECG channel type name: MLII\n",
            "New data shape (258, 301) Total Shape:  (78726, 301)\n",
            " --> ECG channel type name: V1\n",
            "New data shape (168, 301) Total Shape:  (78894, 301)\n",
            "Loading file: ./mitdb_2/230\n",
            " --> ECG channel type name: MLII\n",
            "New data shape (97, 301) Total Shape:  (78991, 301)\n",
            " --> ECG channel type name: V1\n",
            "New data shape (96, 301) Total Shape:  (79087, 301)\n",
            "Loading file: ./mitdb_2/231\n",
            " --> ECG channel type name: MLII\n",
            "New data shape (1, 301) Total Shape:  (79088, 301)\n",
            " --> ECG channel type name: V1\n",
            "New data shape (0,) Total Shape:  (79088, 301)\n",
            "Loading file: ./mitdb_2/232\n",
            " --> ECG channel type name: MLII\n",
            "New data shape (31, 301) Total Shape:  (79119, 301)\n",
            " --> ECG channel type name: V1\n",
            "New data shape (1, 301) Total Shape:  (79120, 301)\n",
            "Loading file: ./mitdb_2/233\n",
            " --> ECG channel type name: MLII\n",
            "New data shape (1778, 301) Total Shape:  (80898, 301)\n",
            " --> ECG channel type name: V1\n",
            "New data shape (800, 301) Total Shape:  (81698, 301)\n",
            "Loading file: ./mitdb_2/234\n",
            " --> ECG channel type name: MLII\n",
            "New data shape (1957, 301) Total Shape:  (83655, 301)\n",
            " --> ECG channel type name: V1\n",
            "New data shape (1944, 301) Total Shape:  (85599, 301)\n"
          ]
        }
      ]
    },
    {
      "cell_type": "markdown",
      "source": [
        "## **Applying SMOTE**"
      ],
      "metadata": {
        "id": "lRjwb8ngK5H2"
      }
    },
    {
      "cell_type": "code",
      "source": [
        "df_final_data_X = pd.DataFrame(data=full_frames[:, :-1])\n",
        "df_final_data_Y = pd.DataFrame(data=full_frames[:,-1])\n",
        "\n",
        "smote = SMOTE(sampling_strategy='minority')\n",
        "X_sm, y_sm = smote.fit_resample(df_final_data_X, df_final_data_Y)\n",
        "y_sm.value_counts()"
      ],
      "metadata": {
        "colab": {
          "base_uri": "https://localhost:8080/"
        },
        "id": "4DvpOkvQJp9q",
        "outputId": "6769a193-5149-49b8-f862-15c4cf64d433"
      },
      "execution_count": 15,
      "outputs": [
        {
          "output_type": "execute_result",
          "data": {
            "text/plain": [
              "1.0    76871\n",
              "0.0    76871\n",
              "dtype: int64"
            ]
          },
          "metadata": {},
          "execution_count": 15
        }
      ]
    },
    {
      "cell_type": "markdown",
      "source": [
        "## **Spectrogram Generation**"
      ],
      "metadata": {
        "id": "sPod-xVJK5uF"
      }
    },
    {
      "cell_type": "code",
      "source": [
        "!rm -fr data_ecg\n",
        "os.makedirs('./data_ecg/Spectrogram/Abnormal');\n",
        "os.makedirs('./data_ecg/Spectrogram/Normal');"
      ],
      "metadata": {
        "id": "u6Dok-pnL4rQ"
      },
      "execution_count": 17,
      "outputs": []
    },
    {
      "cell_type": "code",
      "source": [
        "for index, row in X_sm.iterrows():\n",
        "    # In case of failure (RAM usage) uncomment this line and resume from last index (i.e  108949).\n",
        "    # if(index > 108949):\n",
        "      fig = plt.figure(frameon=False)\n",
        "      plt.specgram(row, Fs=fs)\n",
        "      plt.xticks([]), plt.yticks([])\n",
        "      for spine in plt.gca().spines.values():\n",
        "        spine.set_visible(False)          \n",
        "      if(y_sm[0][index] == 1.0):\n",
        "        filename = './data_ecg/Spectrogram/Abnormal/' + str(index)+'.png'\n",
        "      else:\n",
        "        filename = './data_ecg/Spectrogram/Normal/' + str(index)+'.png'\n",
        "      fig.savefig(filename)\n",
        "      plt.close()\n",
        "      print(index);"
      ],
      "metadata": {
        "id": "IK4SDfBJK3EV"
      },
      "execution_count": 18,
      "outputs": []
    }
  ]
}